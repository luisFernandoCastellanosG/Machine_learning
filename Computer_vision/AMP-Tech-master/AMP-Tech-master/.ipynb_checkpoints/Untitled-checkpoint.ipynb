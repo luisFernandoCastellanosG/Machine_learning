{
 "cells": [
  {
   "cell_type": "markdown",
   "metadata": {
    "collapsed": true
   },
   "source": [
    "# Red neuronal de dos capas lista para ser modificada para recibir cualquier input y clasificar"
   ]
  },
  {
   "cell_type": "code",
   "execution_count": 23,
   "metadata": {},
   "outputs": [
    {
     "name": "stdout",
     "output_type": "stream",
     "text": [
      "Extracting /tmp/data/train-images-idx3-ubyte.gz\n",
      "Extracting /tmp/data/train-labels-idx1-ubyte.gz\n",
      "Extracting /tmp/data/t10k-images-idx3-ubyte.gz\n",
      "Extracting /tmp/data/t10k-labels-idx1-ubyte.gz\n",
      "Step 1, Minibatch Loss= 8751.4990, Training Accuracy= 0.320\n",
      "Step 100, Minibatch Loss= 359.6848, Training Accuracy= 0.828\n",
      "Step 200, Minibatch Loss= 91.5768, Training Accuracy= 0.875\n",
      "Step 300, Minibatch Loss= 26.1617, Training Accuracy= 0.914\n",
      "Step 400, Minibatch Loss= 107.6900, Training Accuracy= 0.852\n",
      "Step 500, Minibatch Loss= 55.9755, Training Accuracy= 0.828\n",
      "Optimization Finished!\n",
      "Testing Accuracy: 0.8401\n"
     ]
    }
   ],
   "source": [
    "from __future__ import print_function\n",
    "from tensorflow.examples.tutorials.mnist import input_data\n",
    "mnist = input_data.read_data_sets(\"/tmp/data/\", one_hot=True)\n",
    "import tensorflow as tf\n",
    "\n",
    "# Parameters\n",
    "taza_aprendizaje = 0.1\n",
    "numero_pasos = 500\n",
    "lotes = 128\n",
    "display_step = 100\n",
    "\n",
    "# Network Parameters\n",
    "neuronas_capa1 = 256 # 1st layer number of neurons\n",
    "neuronas_capa2 = 256 # 2nd layer number of neurons\n",
    "numero_entradas = 784 # MNIST data input (img shape: 28*28)\n",
    "numero_clasificaciones = 10 # MNIST total classes (0-9 digits)\n",
    "\n",
    "# tf Graph input\n",
    "X = tf.placeholder(\"float\", [None, numero_entradas])\n",
    "Y = tf.placeholder(\"float\", [None, numero_clasificaciones])\n",
    "\n",
    "# Store layers weight & bias\n",
    "diccionario_pesos_W = \\\n",
    "    {\n",
    "    'entrada_capa1': tf.Variable(tf.random_normal([numero_entradas, neuronas_capa1])),\n",
    "    'capa1_capa2': tf.Variable(tf.random_normal([neuronas_capa1, neuronas_capa2])),\n",
    "    'capa2_salida': tf.Variable(tf.random_normal([neuronas_capa2, numero_clasificaciones]))\n",
    "    }\n",
    "diccionario_sesgos_b = \\\n",
    "    {\n",
    "    'b1': tf.Variable(tf.random_normal([neuronas_capa1])),\n",
    "    'b2': tf.Variable(tf.random_normal([neuronas_capa2])),\n",
    "    'out': tf.Variable(tf.random_normal([numero_clasificaciones]))\n",
    "    }\n",
    "\n",
    "\n",
    "# Create model\n",
    "def neural_net(x):\n",
    "    # Hidden fully connected layer with 256 neurons\n",
    "    layer_1 = tf.add(tf.matmul(x, diccionario_pesos_W['entrada_capa1']), diccionario_sesgos_b['b1'])\n",
    "    # Hidden fully connected layer with 256 neurons\n",
    "    layer_2 = tf.add(tf.matmul(layer_1, diccionario_pesos_W['capa1_capa2']), diccionario_sesgos_b['b2'])\n",
    "    # Output fully connected layer with a neuron for each class\n",
    "    out_layer = tf.add(tf.matmul(layer_2, diccionario_pesos_W['capa2_salida']), diccionario_sesgos_b['out'])\n",
    "    return out_layer\n",
    "\n",
    "# Construct model\n",
    "logits = neural_net(X)\n",
    "prediction = tf.nn.softmax(logits)\n",
    "\n",
    "# Define loss and optimizer\n",
    "loss_op = tf.reduce_mean(tf.nn.softmax_cross_entropy_with_logits(\n",
    "    logits=logits, labels=Y))\n",
    "optimizer = tf.train.AdamOptimizer(learning_rate=taza_aprendizaje)\n",
    "train_op = optimizer.minimize(loss_op)\n",
    "\n",
    "# Evaluate model\n",
    "correct_pred = tf.equal(tf.argmax(prediction, 1), tf.argmax(Y, 1))\n",
    "accuracy = tf.reduce_mean(tf.cast(correct_pred, tf.float32))\n",
    "\n",
    "# Initialize the variables (i.e. assign their default value)\n",
    "init = tf.global_variables_initializer()\n",
    "\n",
    "# Start training\n",
    "with tf.Session() as sess:\n",
    "\n",
    "    # Run the initializer\n",
    "    sess.run(init)\n",
    "\n",
    "    for step in range(1, numero_pasos + 1):\n",
    "        batch_x, batch_y = mnist.train.next_batch(lotes)\n",
    "        # Run optimization op (backprop)\n",
    "        sess.run(train_op, feed_dict={X: batch_x, Y: batch_y})\n",
    "        if step % display_step == 0 or step == 1:\n",
    "            # Calculate batch loss and accuracy\n",
    "            loss, acc = sess.run([loss_op, accuracy], feed_dict={X: batch_x,\n",
    "                                                                 Y: batch_y})\n",
    "            print(\"Step \" + str(step) + \", Minibatch Loss= \" + \\\n",
    "                  \"{:.4f}\".format(loss) + \", Training Accuracy= \" + \\\n",
    "                  \"{:.3f}\".format(acc))\n",
    "\n",
    "    print(\"Optimization Finished!\")\n",
    "\n",
    "    # Calculate accuracy for MNIST test images\n",
    "    print(\"Testing Accuracy:\", sess.run(accuracy, feed_dict={X: mnist.test.images, Y: mnist.test.labels}))"
   ]
  },
  {
   "cell_type": "code",
   "execution_count": null,
   "metadata": {
    "collapsed": true
   },
   "outputs": [],
   "source": []
  }
 ],
 "metadata": {
  "kernelspec": {
   "display_name": "Python 3",
   "language": "python",
   "name": "python3"
  },
  "language_info": {
   "codemirror_mode": {
    "name": "ipython",
    "version": 3
   },
   "file_extension": ".py",
   "mimetype": "text/x-python",
   "name": "python",
   "nbconvert_exporter": "python",
   "pygments_lexer": "ipython3",
   "version": "3.6.2"
  }
 },
 "nbformat": 4,
 "nbformat_minor": 2
}
