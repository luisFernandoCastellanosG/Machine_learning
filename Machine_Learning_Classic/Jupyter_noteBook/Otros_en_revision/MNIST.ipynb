{
 "cells": [
  {
   "cell_type": "code",
   "execution_count": 1,
   "metadata": {
    "collapsed": true
   },
   "outputs": [],
   "source": [
    "import tensorflow as tf\n",
    "from tensorflow.examples.tutorials.mnist import input_data"
   ]
  },
  {
   "cell_type": "code",
   "execution_count": 2,
   "metadata": {},
   "outputs": [
    {
     "name": "stdout",
     "output_type": "stream",
     "text": [
      "Extracting MNIST_data/train-images-idx3-ubyte.gz\n",
      "Extracting MNIST_data/train-labels-idx1-ubyte.gz\n",
      "Extracting MNIST_data/t10k-images-idx3-ubyte.gz\n",
      "Extracting MNIST_data/t10k-labels-idx1-ubyte.gz\n"
     ]
    }
   ],
   "source": [
    "mnist=input_data.read_data_sets(\"MNIST_data/\", one_hot=True) #La imagenes tienen dimension de 28x28"
   ]
  },
  {
   "cell_type": "code",
   "execution_count": 3,
   "metadata": {
    "collapsed": true
   },
   "outputs": [],
   "source": [
    "x=tf.placeholder(tf.float32,[None,784]) #imagen del numero descompuesta a un vector\n",
    "P=tf.Variable(tf.zeros([784,10])) #Matriz de pesos, 784 para recibir la imagen, 10 por las posible salidas\n",
    "b=tf.Variable(tf.zeros([10])) #Vector con bias\n",
    "y=tf.matmul(x,P)+b #La operacion que se hara en los nodos que reciben entradas\n",
    "yR=tf.placeholder(tf.float32,[None,10]) # Matriz con las etiquetas REALES del set de datos"
   ]
  },
  {
   "cell_type": "markdown",
   "metadata": {},
   "source": [
    "# Definir la función de costo entropia cruzada (Cross Entropy) para poder medir el error. La salida será con Softmax "
   ]
  },
  {
   "cell_type": "code",
   "execution_count": 4,
   "metadata": {},
   "outputs": [],
   "source": [
    "softmax=tf.nn.softmax_cross_entropy_with_logits(labels=yR,logits=y)\n",
    "costo=tf.reduce_mean(softmax)\n",
    "optimizador=tf.train.GradientDescentOptimizer(0.5).minimize(costo)"
   ]
  },
  {
   "cell_type": "markdown",
   "metadata": {},
   "source": [
    "# Correr la gráfica computacional"
   ]
  },
  {
   "cell_type": "code",
   "execution_count": 5,
   "metadata": {
    "collapsed": true
   },
   "outputs": [],
   "source": [
    "prediccion = tf.equal(tf.argmax(y, 1), tf.argmax(yR, 1)) #Nos da arreglo de booleanos para decirnos \n",
    "                                                         #cuales estan bien y cuales no\n",
    "accuracy = tf.reduce_mean(tf.cast(prediccion, tf.float32))#Nos da el porcentaje sobre el arreglo de prediccion\n",
    "Produccion = tf.argmax(y,1)\n",
    "init=tf.global_variables_initializer()"
   ]
  },
  {
   "cell_type": "markdown",
   "metadata": {},
   "source": [
    "# Entrenar algoritmo"
   ]
  },
  {
   "cell_type": "code",
   "execution_count": 6,
   "metadata": {
    "collapsed": true
   },
   "outputs": [],
   "source": [
    "#Funcion que usaremos para ver que tan bien va a aprendiendo nuestro modelo \n",
    "def avance(epoca_i, sess, last_features, last_labels):\n",
    "    costoActual = sess.run(costo,feed_dict={x: last_features, yR: last_labels})\n",
    "    Certeza = sess.run(accuracy,feed_dict={x:mnist.validation.images,yR: mnist.validation.labels})\n",
    "    print('Epoca: {:<4} - Costo: {:<8.3} Certeza: {:<5.3}'.format(epoca_i,costoActual,Certeza))"
   ]
  },
  {
   "cell_type": "code",
   "execution_count": 7,
   "metadata": {
    "scrolled": false
   },
   "outputs": [
    {
     "name": "stdout",
     "output_type": "stream",
     "text": [
      "Epoca: 0    - Costo: 1.8      Certeza: 0.111\n",
      "Epoca: 50   - Costo: 0.382    Certeza: 0.875\n",
      "Epoca: 100  - Costo: 0.407    Certeza: 0.898\n",
      "Epoca: 150  - Costo: 0.316    Certeza: 0.896\n",
      "Epoca: 200  - Costo: 0.34     Certeza: 0.908\n",
      "Epoca: 250  - Costo: 0.313    Certeza: 0.912\n",
      "Epoca: 300  - Costo: 0.286    Certeza: 0.907\n",
      "Epoca: 350  - Costo: 0.391    Certeza: 0.914\n",
      "Epoca: 400  - Costo: 0.509    Certeza: 0.909\n",
      "Epoca: 450  - Costo: 0.478    Certeza: 0.914\n",
      "Epoca: 500  - Costo: 0.506    Certeza: 0.914\n",
      "Epoca: 550  - Costo: 0.215    Certeza: 0.917\n",
      "Epoca: 600  - Costo: 0.273    Certeza: 0.914\n",
      "Epoca: 650  - Costo: 0.227    Certeza: 0.917\n",
      "Epoca: 700  - Costo: 0.224    Certeza: 0.919\n",
      "Epoca: 750  - Costo: 0.177    Certeza: 0.922\n",
      "Epoca: 800  - Costo: 0.324    Certeza: 0.919\n",
      "Epoca: 850  - Costo: 0.248    Certeza: 0.924\n",
      "Epoca: 900  - Costo: 0.258    Certeza: 0.923\n",
      "Epoca: 950  - Costo: 0.162    Certeza: 0.918\n",
      "RESULTADO FINAL:  0.92\n",
      "Resultado de una imagen [1]\n"
     ]
    }
   ],
   "source": [
    "with tf.Session() as sess:\n",
    "    sess.run(init)\n",
    "    for epoca_i in range(1000):\n",
    "        lotex, lotey = mnist.train.next_batch(100)\n",
    "        sess.run(optimizador, feed_dict={x: lotex, yR: lotey})\n",
    "        if (epoca_i%50==0):\n",
    "            avance(epoca_i, sess, lotex, lotey)\n",
    "    print('RESULTADO FINAL: ',sess.run(accuracy, feed_dict={x: mnist.test.images,yR: mnist.test.labels}))\n",
    "    print ('Resultado de una imagen',sess.run(Produccion,feed_dict={x: mnist.test.images[5].reshape(1,784)}))"
   ]
  },
  {
   "cell_type": "code",
   "execution_count": 8,
   "metadata": {},
   "outputs": [
    {
     "data": {
      "text/plain": [
       "array([ 0.,  1.,  0.,  0.,  0.,  0.,  0.,  0.,  0.,  0.])"
      ]
     },
     "execution_count": 8,
     "metadata": {},
     "output_type": "execute_result"
    }
   ],
   "source": [
    "mnist.test.labels[5]"
   ]
  },
  {
   "cell_type": "code",
   "execution_count": null,
   "metadata": {
    "collapsed": true
   },
   "outputs": [],
   "source": []
  }
 ],
 "metadata": {
  "kernelspec": {
   "display_name": "Python 3",
   "language": "python",
   "name": "python3"
  },
  "language_info": {
   "codemirror_mode": {
    "name": "ipython",
    "version": 3
   },
   "file_extension": ".py",
   "mimetype": "text/x-python",
   "name": "python",
   "nbconvert_exporter": "python",
   "pygments_lexer": "ipython3",
   "version": "3.6.2"
  }
 },
 "nbformat": 4,
 "nbformat_minor": 2
}
