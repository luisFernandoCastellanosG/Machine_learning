{
  "nbformat": 4,
  "nbformat_minor": 0,
  "metadata": {
    "colab": {
      "name": "AdaBoost.ipynb",
      "provenance": []
    },
    "kernelspec": {
      "name": "python3",
      "display_name": "Python 3"
    }
  },
  "cells": [
    {
      "cell_type": "code",
      "metadata": {
        "id": "SdIFHIO9_BMc"
      },
      "source": [
        "import numpy as np\n",
        "import pandas as pd\n",
        "from sklearn.ensemble import AdaBoostClassifier\n",
        "from sklearn.metrics import accuracy_score\n",
        "import matplotlib.pyplot as plt\n",
        "from sklearn.model_selection import train_test_split, cross_val_score\n",
        "from sklearn import preprocessing\n"
      ],
      "execution_count": null,
      "outputs": []
    },
    {
      "cell_type": "code",
      "metadata": {
        "id": "EWad4YoB_IuH"
      },
      "source": [
        "def normalization(data,colN):\n",
        "    print (data)\n",
        "    colNames=[\"Pregnancies\",\"Glucose\",\"BloodPressure\",\"SkinThickness\",\"Insulin\",\"BMI\",\"Age\"]\n",
        "    data2=data[colNames]\n",
        "    min_max_scaler=preprocessing.MinMaxScaler()\n",
        "    x_scaled=min_max_scaler.fit_transform(data2)\n",
        "    data[colNames]=x_scaled\n",
        "    print (\"transformed data\")\n",
        "    return data\n",
        "\n",
        "def load():\n",
        "    colNames=[\"Pregnancies\",\"Glucose\",\"BloodPressure\",\"SkinThickness\",\"Insulin\",\"BMI\",\"DiabetesPedigreeFunction\",\"Age\",\"Class\"]\n",
        "    data=pd.read_csv(\"pima-indians-diabetes.csv\",names=colNames)\n",
        "    #print (data)\n",
        "    \n",
        "    data2=normalization(data,colNames)\n",
        "    \n",
        "    \n",
        "    train,validate,test=np.split(data2.sample(frac=1),[int(.8*len(data2)),int(.90*len(data2))])\n",
        "    print (test)\n",
        "    yTrain=train[\"Class\"]\n",
        "    print(yTrain)\n",
        "    XTrain=train.drop(\"Class\",axis=\"columns\")\n",
        "    print(XTrain)\n",
        "    \n",
        "    XTest=test.drop(\"Class\",axis=\"columns\")\n",
        "    yTest=test[\"Class\"]\n",
        "    XVal=validate.drop(\"Class\",axis=\"columns\")\n",
        "    yVal=validate[\"Class\"]\n",
        "    #fit train set\n",
        "    accTrain=[]\n",
        "    accVal=[]\n",
        "    maxTrees=[]\n",
        "    for i in range(1,200):\n",
        "        model=AdaBoostClassifier(n_estimators=i,learning_rate=1,algorithm=\"SAMME\")\n",
        "        model.fit(XTrain,yTrain)\n",
        "        pred=model.predict(XTrain)\n",
        "        acc=accuracy_score(yTrain,pred)\n",
        "        accTrain.append(acc)\n",
        "        test=model.predict(XVal)\n",
        "        acc=accuracy_score(yVal,test)\n",
        "        accVal.append(acc)\n",
        "        maxTrees.append(i)\n",
        "    \n",
        "    print(\"train max accuracy\",max(accTrain))\n",
        "    index_max = max(range(len(accTrain)), key=accTrain.__getitem__)\n",
        "    print(index_max)\n",
        "    print(\"val max accuracy \",max(accVal))\n",
        "    index_max = max(range(len(accVal)), key=accVal.__getitem__)\n",
        "    print(\"number of trees by validation set \",maxTrees[index_max])\n",
        "    plt.figure(1)\n",
        "    axes = plt.gca()\n",
        "    axes.set_xlim([1,200])\n",
        "    axes.set_ylim([0.6,1.0])\n",
        "    d=pd.DataFrame({\"accTrain\":pd.Series(accTrain),\"accVal\":pd.Series(accVal),\"max_trees\":pd.Series(maxTrees)})\n",
        "    #plt.plot(\"max_depth\",\"accTrain\",\"accVal\",data=d,label=\"train\")\n",
        "    \n",
        "    plt.plot(\"max_trees\",\"accTrain\",data=d,label=\"train\")\n",
        "    plt.plot(\"max_trees\",\"accVal\",data=d,label=\"val\")\n",
        "    plt.xlabel(\"max trees\")\n",
        "    plt.ylabel(\"accuracy\")\n",
        "    plt.legend()\n",
        "    \n",
        "    \n",
        "    #use validation set\n",
        "    learningR=np.linspace(0.001,1.5,10)\n",
        "    learning=[]\n",
        "    accTrain=[]\n",
        "    accVal=[]\n",
        "    \n",
        "    for i in learningR:\n",
        "        model=AdaBoostClassifier(n_estimators=16,learning_rate=i,algorithm=\"SAMME\")\n",
        "        model.fit(XTrain,yTrain)\n",
        "        pred=model.predict(XTrain)\n",
        "        acc=accuracy_score(yTrain,pred)\n",
        "        accTrain.append(acc)\n",
        "        val=model.predict(XVal)\n",
        "        acc=accuracy_score(yVal,val)\n",
        "        accVal.append(acc)\n",
        "        learning.append(i)\n",
        "    \n",
        "    print(\"validation\")\n",
        "    print(\"train \",max(accTrain))\n",
        "    index_max = max(range(len(accTrain)), key=accTrain.__getitem__)\n",
        "    print(\"index max value \",index_max)\n",
        "    print(\"max value \",max(accVal))\n",
        "    index_max = max(range(len(accVal)), key=accVal.__getitem__)\n",
        "    print(\"learning rate value \",accVal[index_max])\n",
        "    \n",
        "    plt.figure(2)\n",
        "    axes = plt.gca()\n",
        "    axes.set_xlim([0,2])\n",
        "    axes.set_ylim([0.6,1.0])\n",
        "    d=pd.DataFrame({\"accTrain\":pd.Series(accTrain),\"accVal\":pd.Series(accVal),\"learningRate\":pd.Series(learning)})\n",
        "    #plt.plot(\"learningRate\",\"accTrain\",\"accVal\",data=d,label=\"train\")\n",
        "    plt.plot(\"learningRate\",\"accTrain\",data=d,label=\"train\")\n",
        "    plt.plot(\"learningRate\",\"accVal\",data=d,label=\"val\")\n",
        "    plt.xlabel(\"learning Rate\")\n",
        "    plt.ylabel(\"accuracy\")\n",
        "    plt.legend()\n",
        "    #use test set\n",
        "    print(\"test\")\n",
        "    model=AdaBoostClassifier(n_estimators=16,learning_rate=0.80,algorithm=\"SAMME\")\n",
        "    print(model)\n",
        "    #model.fit(XTrain,yTrain)\n",
        "    \"\"\"test=model.predict(XTest)\n",
        "    acc=accuracy_score(yTest,test)\n",
        "    print (acc)\"\"\"\n",
        "    \n",
        "    print(cross_val_score(model, XTrain, yTrain, cv = 10).mean())"
      ],
      "execution_count": null,
      "outputs": []
    },
    {
      "cell_type": "code",
      "metadata": {
        "id": "IK3OKige_SyW"
      },
      "source": [
        "def main():\n",
        "    load()"
      ],
      "execution_count": null,
      "outputs": []
    },
    {
      "cell_type": "code",
      "metadata": {
        "id": "0EtJaNMCTCX_"
      },
      "source": [
        "from google.colab import files\n",
        "data_to_load = files.upload()"
      ],
      "execution_count": null,
      "outputs": []
    },
    {
      "cell_type": "code",
      "metadata": {
        "colab": {
          "base_uri": "https://localhost:8080/"
        },
        "id": "zpS1YniV_tFi",
        "outputId": "27b9dfaa-3bbf-410f-e880-18e757d51ca2"
      },
      "source": [
        "main()"
      ],
      "execution_count": null,
      "outputs": [
        {
          "output_type": "stream",
          "text": [
            "     Pregnancies  Glucose  BloodPressure  ...  DiabetesPedigreeFunction  Age  Class\n",
            "0              6      148             72  ...                     0.627   50      1\n",
            "1              1       85             66  ...                     0.351   31      0\n",
            "2              8      183             64  ...                     0.672   32      1\n",
            "3              1       89             66  ...                     0.167   21      0\n",
            "4              0      137             40  ...                     2.288   33      1\n",
            "..           ...      ...            ...  ...                       ...  ...    ...\n",
            "763           10      101             76  ...                     0.171   63      0\n",
            "764            2      122             70  ...                     0.340   27      0\n",
            "765            5      121             72  ...                     0.245   30      0\n",
            "766            1      126             60  ...                     0.349   47      1\n",
            "767            1       93             70  ...                     0.315   23      0\n",
            "\n",
            "[768 rows x 9 columns]\n",
            "transformed data\n",
            "     Pregnancies   Glucose  ...       Age  Class\n",
            "507     0.058824  0.653266  ...  0.000000      0\n",
            "727     0.000000  0.708543  ...  0.016667      0\n",
            "504     0.176471  0.482412  ...  0.316667      0\n",
            "331     0.117647  0.437186  ...  0.066667      0\n",
            "135     0.117647  0.628141  ...  0.166667      0\n",
            "..           ...       ...  ...       ...    ...\n",
            "341     0.058824  0.477387  ...  0.250000      0\n",
            "650     0.058824  0.457286  ...  0.033333      0\n",
            "581     0.352941  0.547739  ...  0.100000      0\n",
            "760     0.117647  0.442211  ...  0.016667      0\n",
            "444     0.235294  0.587940  ...  0.150000      1\n",
            "\n",
            "[77 rows x 9 columns]\n",
            "196    0\n",
            "389    0\n",
            "685    0\n",
            "226    0\n",
            "589    0\n",
            "      ..\n",
            "525    0\n",
            "38     1\n",
            "455    1\n",
            "270    1\n",
            "471    0\n",
            "Name: Class, Length: 614, dtype: int64\n",
            "     Pregnancies   Glucose  ...  DiabetesPedigreeFunction       Age\n",
            "196     0.058824  0.527638  ...                     0.187  0.000000\n",
            "389     0.176471  0.502513  ...                     0.949  0.116667\n",
            "685     0.117647  0.648241  ...                     0.591  0.066667\n",
            "226     0.000000  0.507538  ...                     0.198  0.083333\n",
            "589     0.000000  0.366834  ...                     0.342  0.066667\n",
            "..           ...       ...  ...                       ...       ...\n",
            "525     0.176471  0.437186  ...                     0.444  0.000000\n",
            "38      0.117647  0.452261  ...                     0.503  0.100000\n",
            "455     0.823529  0.879397  ...                     0.212  0.283333\n",
            "270     0.588235  0.507538  ...                     1.136  0.283333\n",
            "471     0.000000  0.688442  ...                     0.170  0.016667\n",
            "\n",
            "[614 rows x 8 columns]\n",
            "train max accuracy 0.8257328990228013\n",
            "190\n",
            "val max accuracy  0.7792207792207793\n",
            "number of trees by validation set  32\n",
            "validation\n",
            "train  0.7915309446254072\n",
            "index max value  9\n",
            "max value  0.7662337662337663\n",
            "learning rate value  0.7662337662337663\n",
            "test\n",
            "AdaBoostClassifier(algorithm='SAMME', base_estimator=None, learning_rate=0.8,\n",
            "                   n_estimators=16, random_state=None)\n",
            "0.7571655208884187\n"
          ],
          "name": "stdout"
        },
        {
          "output_type": "display_data",
          "data": {
            "image/png": "[encoded data removed]",
            "text/plain": [
              "<Figure size 432x288 with 1 Axes>"
            ]
          },
          "metadata": {
            "tags": [],
            "needs_background": "light"
          }
        },
        {
          "output_type": "display_data",
          "data": {
            "image/png": "[encoded data removed]",
            "text/plain": [
              "<Figure size 432x288 with 1 Axes>"
            ]
          },
          "metadata": {
            "tags": [],
            "needs_background": "light"
          }
        }
      ]
    },
    {
      "cell_type": "code",
      "metadata": {
        "colab": {
          "resources": {
            "http://localhost:8080/nbextensions/google.colab/files.js": {
              "data": "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",
              "ok": true,
              "headers": [
                [
                  "content-type",
                  "application/javascript"
                ]
              ],
              "status": 200,
              "status_text": ""
            }
          },
          "base_uri": "https://localhost:8080/",
          "height": 38
        },
        "id": "iMSYLJe3_Ynu",
        "outputId": "85dd1930-213b-4466-d765-6fa69f7a1db3"
      },
      "source": [
        "from google.colab import files\n",
        "data_to_load = files.upload()"
      ],
      "execution_count": null,
      "outputs": [
        {
          "output_type": "display_data",
          "data": {
            "text/html": [
              "\n",
              "     <input type=\"file\" id=\"files-55e617ec-af92-4cff-b3fb-40130f36983b\" name=\"files[]\" multiple disabled\n",
              "        style=\"border:none\" />\n",
              "     <output id=\"result-55e617ec-af92-4cff-b3fb-40130f36983b\">\n",
              "      Upload widget is only available when the cell has been executed in the\n",
              "      current browser session. Please rerun this cell to enable.\n",
              "      </output>\n",
              "      <script src=\"/nbextensions/google.colab/files.js\"></script> "
            ],
            "text/plain": [
              "<IPython.core.display.HTML object>"
            ]
          },
          "metadata": {
            "tags": []
          }
        }
      ]
    },
    {
      "cell_type": "code",
      "metadata": {
        "id": "RHtUiHIIBEVu"
      },
      "source": [
        ""
      ],
      "execution_count": null,
      "outputs": []
    }
  ]
}