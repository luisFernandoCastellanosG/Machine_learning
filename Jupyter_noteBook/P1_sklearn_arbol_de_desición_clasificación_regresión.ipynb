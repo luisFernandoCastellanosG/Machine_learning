{
  "nbformat": 4,
  "nbformat_minor": 0,
  "metadata": {
    "colab": {
      "name": "P1_sklearn_arbol_de_desición_clasificación_regresión.ipynb",
      "provenance": [],
      "collapsed_sections": [
        "O02t1I0xxrYt"
      ],
      "toc_visible": true
    },
    "kernelspec": {
      "name": "python3",
      "display_name": "Python 3"
    }
  },
  "cells": [
    {
      "cell_type": "markdown",
      "metadata": {
        "id": "bQTmiD_Serah"
      },
      "source": [
        "#Arboles de desición (load_iris)\n",
        "\n"
      ]
    },
    {
      "cell_type": "markdown",
      "metadata": {
        "id": "VyXNmnl9exVY"
      },
      "source": [
        "## 1.Importar librerias"
      ]
    },
    {
      "cell_type": "code",
      "metadata": {
        "id": "OZy7BGO_KB1u"
      },
      "source": [
        "import numpy as np\n",
        "import pandas as pd\n",
        "\n",
        "import matplotlib.pyplot as plt    #generar graficos\n",
        "from sklearn.model_selection import train_test_split  #separar los datos (train y test)\n",
        "from sklearn.tree import DecisionTreeClassifier       #clase que arboles de desición\n",
        "from sklearn.datasets import load_iris        "
      ],
      "execution_count": 1,
      "outputs": []
    },
    {
      "cell_type": "markdown",
      "metadata": {
        "id": "7aK8xwfEgHRJ"
      },
      "source": [
        "## 2.Cargando datos (dataset)"
      ]
    },
    {
      "cell_type": "code",
      "metadata": {
        "id": "KbieRb74gQsX"
      },
      "source": [
        "db_iris =load_iris()"
      ],
      "execution_count": 2,
      "outputs": []
    },
    {
      "cell_type": "markdown",
      "metadata": {
        "id": "Yh9BPXqHgfcT"
      },
      "source": [
        "## 3.Explorando /conociendo los datos"
      ]
    },
    {
      "cell_type": "code",
      "metadata": {
        "id": "3YENa4z6gn8p"
      },
      "source": [
        "#visualizando la descripción\n",
        "print(db_iris.DESCR)\n",
        "#visualizar target (caracteristica más importante)\n",
        "print(db_iris.target)"
      ],
      "execution_count": null,
      "outputs": []
    },
    {
      "cell_type": "markdown",
      "metadata": {
        "id": "HuO3loILiGCT"
      },
      "source": [
        "## 4.convertir dataset en un dataframe (pandas)"
      ]
    },
    {
      "cell_type": "code",
      "metadata": {
        "id": "9tbc8VW-iRMl",
        "colab": {
          "base_uri": "https://localhost:8080/",
          "height": 204
        },
        "outputId": "84edf5eb-c768-444a-a634-ee2837b0eb12"
      },
      "source": [
        "#creamos un dataframe\n",
        "df_iris= pd.DataFrame(db_iris.data, columns=db_iris.feature_names)\n",
        "df_iris['target']=db_iris.target\n",
        "df_iris.head()"
      ],
      "execution_count": 5,
      "outputs": [
        {
          "output_type": "execute_result",
          "data": {
            "text/html": [
              "<div>\n",
              "<style scoped>\n",
              "    .dataframe tbody tr th:only-of-type {\n",
              "        vertical-align: middle;\n",
              "    }\n",
              "\n",
              "    .dataframe tbody tr th {\n",
              "        vertical-align: top;\n",
              "    }\n",
              "\n",
              "    .dataframe thead th {\n",
              "        text-align: right;\n",
              "    }\n",
              "</style>\n",
              "<table border=\"1\" class=\"dataframe\">\n",
              "  <thead>\n",
              "    <tr style=\"text-align: right;\">\n",
              "      <th></th>\n",
              "      <th>sepal length (cm)</th>\n",
              "      <th>sepal width (cm)</th>\n",
              "      <th>petal length (cm)</th>\n",
              "      <th>petal width (cm)</th>\n",
              "      <th>target</th>\n",
              "    </tr>\n",
              "  </thead>\n",
              "  <tbody>\n",
              "    <tr>\n",
              "      <th>0</th>\n",
              "      <td>5.1</td>\n",
              "      <td>3.5</td>\n",
              "      <td>1.4</td>\n",
              "      <td>0.2</td>\n",
              "      <td>0</td>\n",
              "    </tr>\n",
              "    <tr>\n",
              "      <th>1</th>\n",
              "      <td>4.9</td>\n",
              "      <td>3.0</td>\n",
              "      <td>1.4</td>\n",
              "      <td>0.2</td>\n",
              "      <td>0</td>\n",
              "    </tr>\n",
              "    <tr>\n",
              "      <th>2</th>\n",
              "      <td>4.7</td>\n",
              "      <td>3.2</td>\n",
              "      <td>1.3</td>\n",
              "      <td>0.2</td>\n",
              "      <td>0</td>\n",
              "    </tr>\n",
              "    <tr>\n",
              "      <th>3</th>\n",
              "      <td>4.6</td>\n",
              "      <td>3.1</td>\n",
              "      <td>1.5</td>\n",
              "      <td>0.2</td>\n",
              "      <td>0</td>\n",
              "    </tr>\n",
              "    <tr>\n",
              "      <th>4</th>\n",
              "      <td>5.0</td>\n",
              "      <td>3.6</td>\n",
              "      <td>1.4</td>\n",
              "      <td>0.2</td>\n",
              "      <td>0</td>\n",
              "    </tr>\n",
              "  </tbody>\n",
              "</table>\n",
              "</div>"
            ],
            "text/plain": [
              "   sepal length (cm)  sepal width (cm)  ...  petal width (cm)  target\n",
              "0                5.1               3.5  ...               0.2       0\n",
              "1                4.9               3.0  ...               0.2       0\n",
              "2                4.7               3.2  ...               0.2       0\n",
              "3                4.6               3.1  ...               0.2       0\n",
              "4                5.0               3.6  ...               0.2       0\n",
              "\n",
              "[5 rows x 5 columns]"
            ]
          },
          "metadata": {
            "tags": []
          },
          "execution_count": 5
        }
      ]
    },
    {
      "cell_type": "markdown",
      "metadata": {
        "id": "wIwNgVcljM20"
      },
      "source": [
        "## 5.Dividiendo datos (split) train vs test"
      ]
    },
    {
      "cell_type": "code",
      "metadata": {
        "id": "m68qiKRuoyKU"
      },
      "source": [
        "# split (75%- train , 25%-test),test_size=0.4 (60%-train, 40%-test)\n",
        "X_train, X_test, Y_train, Y_test = train_test_split(df_iris[db_iris.feature_names],df_iris['target'], random_state=4)"
      ],
      "execution_count": 6,
      "outputs": []
    },
    {
      "cell_type": "markdown",
      "metadata": {
        "id": "4hB1bdAfuA7o"
      },
      "source": [
        "## 6.Instanciar un árbol de desición"
      ]
    },
    {
      "cell_type": "code",
      "metadata": {
        "id": "urOzIQZruGiT"
      },
      "source": [
        "arbol = DecisionTreeClassifier(max_depth=3, random_state=0)"
      ],
      "execution_count": 17,
      "outputs": []
    },
    {
      "cell_type": "markdown",
      "metadata": {
        "id": "VQQ2tQeHvEPk"
      },
      "source": [
        "## 7.entrenar modelo (con algoritmo de árbol de clasificación)"
      ]
    },
    {
      "cell_type": "code",
      "metadata": {
        "id": "qlNqaX1ivPWk",
        "colab": {
          "base_uri": "https://localhost:8080/"
        },
        "outputId": "2223e05a-1018-4c74-b8a1-ff1986e38cc8"
      },
      "source": [
        "arbol.fit(X_train, Y_train)"
      ],
      "execution_count": 14,
      "outputs": [
        {
          "output_type": "execute_result",
          "data": {
            "text/plain": [
              "DecisionTreeClassifier(ccp_alpha=0.0, class_weight=None, criterion='gini',\n",
              "                       max_depth=5, max_features=None, max_leaf_nodes=None,\n",
              "                       min_impurity_decrease=0.0, min_impurity_split=None,\n",
              "                       min_samples_leaf=1, min_samples_split=2,\n",
              "                       min_weight_fraction_leaf=0.0, presort='deprecated',\n",
              "                       random_state=0, splitter='best')"
            ]
          },
          "metadata": {
            "tags": []
          },
          "execution_count": 14
        }
      ]
    },
    {
      "cell_type": "markdown",
      "metadata": {
        "id": "O02t1I0xxrYt"
      },
      "source": [
        "## 8.Usar datos de test(25%) para probar el modelo."
      ]
    },
    {
      "cell_type": "code",
      "metadata": {
        "id": "IeKgW5pkx0bD"
      },
      "source": [
        "print(X_test.iloc[0:10])\n",
        "print(Y_test.iloc[0:10])\n",
        "#arbol.predict(X_test.iloc[0:10].values.reshape(1,-1))\n",
        "arbol.predict(X_test.iloc[0:10])"
      ],
      "execution_count": null,
      "outputs": []
    },
    {
      "cell_type": "markdown",
      "metadata": {
        "id": "IGYag-uxzax6"
      },
      "source": [
        "## 9.calcular la presición del modelo (accuracy)"
      ]
    },
    {
      "cell_type": "code",
      "metadata": {
        "id": "O5iOY7FozuMk",
        "colab": {
          "base_uri": "https://localhost:8080/"
        },
        "outputId": "3cf924e0-7399-448c-de14-03b51a228214"
      },
      "source": [
        "accuracy= arbol.score(X_test,Y_test)\n",
        "print(accuracy)"
      ],
      "execution_count": 15,
      "outputs": [
        {
          "output_type": "stream",
          "text": [
            "0.9736842105263158\n"
          ],
          "name": "stdout"
        }
      ]
    },
    {
      "cell_type": "markdown",
      "metadata": {
        "id": "chHpqIcV0LV6"
      },
      "source": [
        "## 10.Graficando el arbol (imagen)"
      ]
    },
    {
      "cell_type": "code",
      "metadata": {
        "id": "Ijl7J9Ew0ZeA",
        "colab": {
          "base_uri": "https://localhost:8080/"
        },
        "outputId": "c661fb19-0465-4251-89d6-7e131f8165ec"
      },
      "source": [
        "#0-setosa , 1-versicolor, 2-virginica\n",
        "class_name_list= list(['setosa','versicolor','verginica'])\n",
        "from sklearn.tree import export_graphviz\n",
        "from pydotplus import graph_from_dot_data\n",
        "dot_data = export_graphviz(arbol, feature_names=db_iris.feature_names, class_names=class_name_list)\n",
        "grafico = graph_from_dot_data(dot_data)\n",
        "grafico.write_png('arbol_iris.png')"
      ],
      "execution_count": 16,
      "outputs": [
        {
          "output_type": "execute_result",
          "data": {
            "text/plain": [
              "True"
            ]
          },
          "metadata": {
            "tags": []
          },
          "execution_count": 16
        }
      ]
    },
    {
      "cell_type": "markdown",
      "metadata": {
        "id": "YuMdgUHn2sQi"
      },
      "source": [
        "## 11.Caracteristicas relevantes para el modelo"
      ]
    },
    {
      "cell_type": "code",
      "metadata": {
        "id": "iUJGXfcM20hR",
        "colab": {
          "base_uri": "https://localhost:8080/",
          "height": 167
        },
        "outputId": "095ca18b-450d-4e9a-cb60-e13ff5b77bde"
      },
      "source": [
        "df_importancia = pd.DataFrame({'caracteristica':X_train.columns,'Importancia':arbol.feature_importances_})\n",
        "df_importancia= df_importancia.sort_values('Importancia',ascending=False)\n",
        "df_importancia.head()"
      ],
      "execution_count": null,
      "outputs": [
        {
          "output_type": "execute_result",
          "data": {
            "text/html": [
              "<div>\n",
              "<style scoped>\n",
              "    .dataframe tbody tr th:only-of-type {\n",
              "        vertical-align: middle;\n",
              "    }\n",
              "\n",
              "    .dataframe tbody tr th {\n",
              "        vertical-align: top;\n",
              "    }\n",
              "\n",
              "    .dataframe thead th {\n",
              "        text-align: right;\n",
              "    }\n",
              "</style>\n",
              "<table border=\"1\" class=\"dataframe\">\n",
              "  <thead>\n",
              "    <tr style=\"text-align: right;\">\n",
              "      <th></th>\n",
              "      <th>caracteristica</th>\n",
              "      <th>Importancia</th>\n",
              "    </tr>\n",
              "  </thead>\n",
              "  <tbody>\n",
              "    <tr>\n",
              "      <th>3</th>\n",
              "      <td>petal width (cm)</td>\n",
              "      <td>0.934803</td>\n",
              "    </tr>\n",
              "    <tr>\n",
              "      <th>2</th>\n",
              "      <td>petal length (cm)</td>\n",
              "      <td>0.065197</td>\n",
              "    </tr>\n",
              "    <tr>\n",
              "      <th>0</th>\n",
              "      <td>sepal length (cm)</td>\n",
              "      <td>0.000000</td>\n",
              "    </tr>\n",
              "    <tr>\n",
              "      <th>1</th>\n",
              "      <td>sepal width (cm)</td>\n",
              "      <td>0.000000</td>\n",
              "    </tr>\n",
              "  </tbody>\n",
              "</table>\n",
              "</div>"
            ],
            "text/plain": [
              "      caracteristica  Importancia\n",
              "3   petal width (cm)     0.934803\n",
              "2  petal length (cm)     0.065197\n",
              "0  sepal length (cm)     0.000000\n",
              "1   sepal width (cm)     0.000000"
            ]
          },
          "metadata": {
            "tags": []
          },
          "execution_count": 33
        }
      ]
    },
    {
      "cell_type": "markdown",
      "metadata": {
        "id": "wt4hQ1Ph4gqT"
      },
      "source": [
        "## 12. probar arbol con diferentes profundidades"
      ]
    },
    {
      "cell_type": "code",
      "metadata": {
        "id": "sYwAmehW4mW6"
      },
      "source": [
        "#lista_de_profundidades (1-6)\n",
        "depth_list = list(range(1,6))\n",
        "#vector de accuracy\n",
        "accuracy_list=[]\n",
        "for depth in depth_list:\n",
        "  arbol = DecisionTreeClassifier(max_depth=depth,random_state=42)\n",
        "  arbol.fit(X_train,Y_train)\n",
        "  score= arbol.score(X_test,Y_test)\n",
        "  accuracy_list.append(score)"
      ],
      "execution_count": 22,
      "outputs": []
    },
    {
      "cell_type": "markdown",
      "metadata": {
        "id": "bDI7oF0v5t0T"
      },
      "source": [
        "### Grafico de resultados"
      ]
    },
    {
      "cell_type": "code",
      "metadata": {
        "id": "x9XR1n7m5xNW",
        "colab": {
          "base_uri": "https://localhost:8080/",
          "height": 296
        },
        "outputId": "e18a040d-3089-4e8a-c5b4-47ee3ebdb5e4"
      },
      "source": [
        "plt.plot (depth_list, accuracy_list)\n",
        "plt.ylabel('accuracy')\n",
        "plt.xlabel('depth')\n",
        "plt.grid(True)\n",
        "plt.show"
      ],
      "execution_count": 23,
      "outputs": [
        {
          "output_type": "execute_result",
          "data": {
            "text/plain": [
              "<function matplotlib.pyplot.show>"
            ]
          },
          "metadata": {
            "tags": []
          },
          "execution_count": 23
        },
        {
          "output_type": "display_data",
          "data": {
            "image/png": "[encoded data removed]",
            "text/plain": [
              "<Figure size 432x288 with 1 Axes>"
            ]
          },
          "metadata": {
            "tags": [],
            "needs_background": "light"
          }
        }
      ]
    },
    {
      "cell_type": "markdown",
      "metadata": {
        "id": "NkupibnYXEOL"
      },
      "source": [
        "#Árbol de clasificación (dataset Titanic)"
      ]
    },
    {
      "cell_type": "markdown",
      "metadata": {
        "id": "ObE014mzX3OG"
      },
      "source": [
        "## Importando librerias"
      ]
    },
    {
      "cell_type": "code",
      "metadata": {
        "id": "wPc32I9SX62D"
      },
      "source": [
        "import numpy as np\n",
        "import pandas as pd \n",
        "from sklearn.model_selection import train_test_split\n",
        "from sklearn.tree import DecisionTreeClassifier\n",
        "from sklearn.metrics import accuracy_score\n",
        "import matplotlib.pyplot as plt\n",
        "import seaborn as sns"
      ],
      "execution_count": 24,
      "outputs": []
    },
    {
      "cell_type": "markdown",
      "metadata": {
        "id": "PXws1ZI1YyEt"
      },
      "source": [
        "##Cargando dataset"
      ]
    },
    {
      "cell_type": "code",
      "metadata": {
        "id": "DT_Xzm2AY1ZF",
        "colab": {
          "base_uri": "https://localhost:8080/",
          "height": 204
        },
        "outputId": "59fa4922-a6ab-462b-b231-4a56593b8b9d"
      },
      "source": [
        "df_titanic = pd.read_csv(\"https://raw.githubusercontent.com/luisFernandoCastellanosG/Machine_learning/master/Databaset's/dataset_titanic.csv\")\n",
        "df_titanic.head()"
      ],
      "execution_count": 25,
      "outputs": [
        {
          "output_type": "execute_result",
          "data": {
            "text/html": [
              "<div>\n",
              "<style scoped>\n",
              "    .dataframe tbody tr th:only-of-type {\n",
              "        vertical-align: middle;\n",
              "    }\n",
              "\n",
              "    .dataframe tbody tr th {\n",
              "        vertical-align: top;\n",
              "    }\n",
              "\n",
              "    .dataframe thead th {\n",
              "        text-align: right;\n",
              "    }\n",
              "</style>\n",
              "<table border=\"1\" class=\"dataframe\">\n",
              "  <thead>\n",
              "    <tr style=\"text-align: right;\">\n",
              "      <th></th>\n",
              "      <th>PassengerId</th>\n",
              "      <th>Survived</th>\n",
              "      <th>Pclass</th>\n",
              "      <th>Name</th>\n",
              "      <th>Sex</th>\n",
              "      <th>Age</th>\n",
              "      <th>SibSp</th>\n",
              "      <th>Parch</th>\n",
              "      <th>Ticket</th>\n",
              "      <th>Fare</th>\n",
              "      <th>Cabin</th>\n",
              "      <th>Embarked</th>\n",
              "    </tr>\n",
              "  </thead>\n",
              "  <tbody>\n",
              "    <tr>\n",
              "      <th>0</th>\n",
              "      <td>1</td>\n",
              "      <td>0</td>\n",
              "      <td>3</td>\n",
              "      <td>Braund, Mr. Owen Harris</td>\n",
              "      <td>male</td>\n",
              "      <td>22.0</td>\n",
              "      <td>1</td>\n",
              "      <td>0</td>\n",
              "      <td>A/5 21171</td>\n",
              "      <td>7.2500</td>\n",
              "      <td>NaN</td>\n",
              "      <td>S</td>\n",
              "    </tr>\n",
              "    <tr>\n",
              "      <th>1</th>\n",
              "      <td>2</td>\n",
              "      <td>1</td>\n",
              "      <td>1</td>\n",
              "      <td>Cumings, Mrs. John Bradley (Florence Briggs Th...</td>\n",
              "      <td>female</td>\n",
              "      <td>38.0</td>\n",
              "      <td>1</td>\n",
              "      <td>0</td>\n",
              "      <td>PC 17599</td>\n",
              "      <td>71.2833</td>\n",
              "      <td>C85</td>\n",
              "      <td>C</td>\n",
              "    </tr>\n",
              "    <tr>\n",
              "      <th>2</th>\n",
              "      <td>3</td>\n",
              "      <td>1</td>\n",
              "      <td>3</td>\n",
              "      <td>Heikkinen, Miss. Laina</td>\n",
              "      <td>female</td>\n",
              "      <td>26.0</td>\n",
              "      <td>0</td>\n",
              "      <td>0</td>\n",
              "      <td>STON/O2. 3101282</td>\n",
              "      <td>7.9250</td>\n",
              "      <td>NaN</td>\n",
              "      <td>S</td>\n",
              "    </tr>\n",
              "    <tr>\n",
              "      <th>3</th>\n",
              "      <td>4</td>\n",
              "      <td>1</td>\n",
              "      <td>1</td>\n",
              "      <td>Futrelle, Mrs. Jacques Heath (Lily May Peel)</td>\n",
              "      <td>female</td>\n",
              "      <td>35.0</td>\n",
              "      <td>1</td>\n",
              "      <td>0</td>\n",
              "      <td>113803</td>\n",
              "      <td>53.1000</td>\n",
              "      <td>C123</td>\n",
              "      <td>S</td>\n",
              "    </tr>\n",
              "    <tr>\n",
              "      <th>4</th>\n",
              "      <td>5</td>\n",
              "      <td>0</td>\n",
              "      <td>3</td>\n",
              "      <td>Allen, Mr. William Henry</td>\n",
              "      <td>male</td>\n",
              "      <td>35.0</td>\n",
              "      <td>0</td>\n",
              "      <td>0</td>\n",
              "      <td>373450</td>\n",
              "      <td>8.0500</td>\n",
              "      <td>NaN</td>\n",
              "      <td>S</td>\n",
              "    </tr>\n",
              "  </tbody>\n",
              "</table>\n",
              "</div>"
            ],
            "text/plain": [
              "   PassengerId  Survived  Pclass  ...     Fare Cabin  Embarked \n",
              "0            1         0       3  ...   7.2500   NaN          S\n",
              "1            2         1       1  ...  71.2833   C85          C\n",
              "2            3         1       3  ...   7.9250   NaN          S\n",
              "3            4         1       1  ...  53.1000  C123          S\n",
              "4            5         0       3  ...   8.0500   NaN          S\n",
              "\n",
              "[5 rows x 12 columns]"
            ]
          },
          "metadata": {
            "tags": []
          },
          "execution_count": 25
        }
      ]
    },
    {
      "cell_type": "markdown",
      "metadata": {
        "id": "3yytKxJkZqo8"
      },
      "source": [
        "## Conociendo los datos"
      ]
    },
    {
      "cell_type": "code",
      "metadata": {
        "id": "hV1WsqW8ZuQ2",
        "colab": {
          "base_uri": "https://localhost:8080/"
        },
        "outputId": "7d080034-6596-456c-839e-27a38d195047"
      },
      "source": [
        "#nombres de columnas\n",
        "df_titanic.columns\n",
        "#mostrar estadisticas del dataset\n",
        "df_titanic.describe()\n",
        "#conocer valores nulos\n",
        "df_titanic.isnull().sum()"
      ],
      "execution_count": 26,
      "outputs": [
        {
          "output_type": "execute_result",
          "data": {
            "text/plain": [
              "PassengerId      0\n",
              "Survived         0\n",
              "Pclass           0\n",
              "Name             0\n",
              "Sex              0\n",
              "Age            177\n",
              "SibSp            0\n",
              "Parch            0\n",
              "Ticket           0\n",
              "Fare             0\n",
              "Cabin          687\n",
              "Embarked         2\n",
              "dtype: int64"
            ]
          },
          "metadata": {
            "tags": []
          },
          "execution_count": 26
        }
      ]
    },
    {
      "cell_type": "markdown",
      "metadata": {
        "id": "ckGuSfrCbceA"
      },
      "source": [
        "### Graficando datos"
      ]
    },
    {
      "cell_type": "code",
      "metadata": {
        "id": "PY1_omUbbgXW",
        "colab": {
          "base_uri": "https://localhost:8080/",
          "height": 315
        },
        "outputId": "bc41b5bb-dce6-4a97-897f-9d2e057e6d31"
      },
      "source": [
        "#grafica de torta para sobrevivientes (si/no)\n",
        "datos = df_titanic.Survived.value_counts(normalize=True)\n",
        "print(datos)\n",
        "plt.pie(datos, labels=[\"No\",\"Si\"],autopct=\"%0.1f %%\")\n",
        "plt.title(\"% de sobrevivientes\")\n",
        "plt.show()"
      ],
      "execution_count": 27,
      "outputs": [
        {
          "output_type": "stream",
          "text": [
            "0    0.616162\n",
            "1    0.383838\n",
            "Name: Survived, dtype: float64\n"
          ],
          "name": "stdout"
        },
        {
          "output_type": "display_data",
          "data": {
            "image/png": "[encoded data removed]",
            "text/plain": [
              "<Figure size 432x288 with 1 Axes>"
            ]
          },
          "metadata": {
            "tags": []
          }
        }
      ]
    },
    {
      "cell_type": "code",
      "metadata": {
        "id": "IL00ekGSc-xy",
        "colab": {
          "base_uri": "https://localhost:8080/",
          "height": 299
        },
        "outputId": "8efdeef5-e4f2-4831-d72e-22c248838ac9"
      },
      "source": [
        "#sobrevivientes vs sexo (Male / Female)\n",
        "datos= df_titanic.Sex[df_titanic.Survived==1].value_counts(normalize=True)\n",
        "print(datos)\n",
        "plt.pie(datos,labels=[\"Mujer\",\"Hombre\"],autopct=\"%0.1f %%\")\n",
        "plt.show()"
      ],
      "execution_count": 28,
      "outputs": [
        {
          "output_type": "stream",
          "text": [
            "female    0.681287\n",
            "male      0.318713\n",
            "Name: Sex, dtype: float64\n"
          ],
          "name": "stdout"
        },
        {
          "output_type": "display_data",
          "data": {
            "image/png": "[encoded data removed]",
            "text/plain": [
              "<Figure size 432x288 with 1 Axes>"
            ]
          },
          "metadata": {
            "tags": []
          }
        }
      ]
    },
    {
      "cell_type": "code",
      "metadata": {
        "id": "jjcAxA8zeA5k",
        "colab": {
          "base_uri": "https://localhost:8080/",
          "height": 316
        },
        "outputId": "c5298cda-e857-4b2b-a942-b7c8b09d4b09"
      },
      "source": [
        "#sobrevivientes por clase (3, 2,1)\n",
        "#datos= df_titanic.Pclass[df_titanic.Survived==1].value_counts(normalize=True)\n",
        "datos = df_titanic.Pclass.value_counts(normalize=True)\n",
        "print(datos)\n",
        "plt.pie(datos,labels=[\"Pobres\",\"Media\",\"Alta\"],autopct=\"%0.1f %%\")\n",
        "plt.show()"
      ],
      "execution_count": 33,
      "outputs": [
        {
          "output_type": "stream",
          "text": [
            "3    0.551066\n",
            "1    0.242424\n",
            "2    0.206510\n",
            "Name: Pclass, dtype: float64\n"
          ],
          "name": "stdout"
        },
        {
          "output_type": "display_data",
          "data": {
            "image/png": "[encoded data removed]",
            "text/plain": [
              "<Figure size 432x288 with 1 Axes>"
            ]
          },
          "metadata": {
            "tags": []
          }
        }
      ]
    },
    {
      "cell_type": "code",
      "metadata": {
        "id": "dEN75RKafNEn",
        "colab": {
          "base_uri": "https://localhost:8080/",
          "height": 264
        },
        "outputId": "261ad115-0cf8-41da-f42f-4a22718b3477"
      },
      "source": [
        "# clases vs edad\n",
        "for t_class in [1,2,3] :\n",
        "  df_titanic.Age[df_titanic.Pclass==t_class].plot(kind=\"kde\")\n",
        "plt.legend({\"1\",\"2\",\"3\"})\n",
        "plt.grid()\n",
        "plt.show()"
      ],
      "execution_count": null,
      "outputs": [
        {
          "output_type": "display_data",
          "data": {
            "image/png": "[encoded data removed]",
            "text/plain": [
              "<Figure size 432x288 with 1 Axes>"
            ]
          },
          "metadata": {
            "tags": [],
            "needs_background": "light"
          }
        }
      ]
    },
    {
      "cell_type": "markdown",
      "metadata": {
        "id": "EL-Gkf5QhEmt"
      },
      "source": [
        "##Normalizamos el dataset "
      ]
    },
    {
      "cell_type": "markdown",
      "metadata": {
        "id": "o5dS-aWVkmWv"
      },
      "source": [
        "### Eliminar columnas "
      ]
    },
    {
      "cell_type": "code",
      "metadata": {
        "id": "8f3EnDO4hN9o",
        "colab": {
          "base_uri": "https://localhost:8080/",
          "height": 204
        },
        "outputId": "788463bf-28fb-45db-b4b3-01de0556a846"
      },
      "source": [
        "df_titanic.drop(['Cabin','PassengerId','Name','Ticket','Embarked '], axis=1,inplace=True)\n",
        "df_titanic.dropna(inplace=True)\n",
        "df_titanic.head()\n",
        "#df_titanic.shape"
      ],
      "execution_count": 36,
      "outputs": [
        {
          "output_type": "execute_result",
          "data": {
            "text/html": [
              "<div>\n",
              "<style scoped>\n",
              "    .dataframe tbody tr th:only-of-type {\n",
              "        vertical-align: middle;\n",
              "    }\n",
              "\n",
              "    .dataframe tbody tr th {\n",
              "        vertical-align: top;\n",
              "    }\n",
              "\n",
              "    .dataframe thead th {\n",
              "        text-align: right;\n",
              "    }\n",
              "</style>\n",
              "<table border=\"1\" class=\"dataframe\">\n",
              "  <thead>\n",
              "    <tr style=\"text-align: right;\">\n",
              "      <th></th>\n",
              "      <th>Survived</th>\n",
              "      <th>Pclass</th>\n",
              "      <th>Sex</th>\n",
              "      <th>Age</th>\n",
              "      <th>SibSp</th>\n",
              "      <th>Parch</th>\n",
              "      <th>Fare</th>\n",
              "    </tr>\n",
              "  </thead>\n",
              "  <tbody>\n",
              "    <tr>\n",
              "      <th>0</th>\n",
              "      <td>0</td>\n",
              "      <td>3</td>\n",
              "      <td>male</td>\n",
              "      <td>22.0</td>\n",
              "      <td>1</td>\n",
              "      <td>0</td>\n",
              "      <td>7.2500</td>\n",
              "    </tr>\n",
              "    <tr>\n",
              "      <th>1</th>\n",
              "      <td>1</td>\n",
              "      <td>1</td>\n",
              "      <td>female</td>\n",
              "      <td>38.0</td>\n",
              "      <td>1</td>\n",
              "      <td>0</td>\n",
              "      <td>71.2833</td>\n",
              "    </tr>\n",
              "    <tr>\n",
              "      <th>2</th>\n",
              "      <td>1</td>\n",
              "      <td>3</td>\n",
              "      <td>female</td>\n",
              "      <td>26.0</td>\n",
              "      <td>0</td>\n",
              "      <td>0</td>\n",
              "      <td>7.9250</td>\n",
              "    </tr>\n",
              "    <tr>\n",
              "      <th>3</th>\n",
              "      <td>1</td>\n",
              "      <td>1</td>\n",
              "      <td>female</td>\n",
              "      <td>35.0</td>\n",
              "      <td>1</td>\n",
              "      <td>0</td>\n",
              "      <td>53.1000</td>\n",
              "    </tr>\n",
              "    <tr>\n",
              "      <th>4</th>\n",
              "      <td>0</td>\n",
              "      <td>3</td>\n",
              "      <td>male</td>\n",
              "      <td>35.0</td>\n",
              "      <td>0</td>\n",
              "      <td>0</td>\n",
              "      <td>8.0500</td>\n",
              "    </tr>\n",
              "  </tbody>\n",
              "</table>\n",
              "</div>"
            ],
            "text/plain": [
              "   Survived  Pclass     Sex   Age  SibSp  Parch     Fare\n",
              "0         0       3    male  22.0      1      0   7.2500\n",
              "1         1       1  female  38.0      1      0  71.2833\n",
              "2         1       3  female  26.0      0      0   7.9250\n",
              "3         1       1  female  35.0      1      0  53.1000\n",
              "4         0       3    male  35.0      0      0   8.0500"
            ]
          },
          "metadata": {
            "tags": []
          },
          "execution_count": 36
        }
      ]
    },
    {
      "cell_type": "markdown",
      "metadata": {
        "id": "vU9xd1CDkenW"
      },
      "source": [
        "### Reemplazar palabras por números"
      ]
    },
    {
      "cell_type": "code",
      "metadata": {
        "id": "3o6UVDJbk65s"
      },
      "source": [
        "from sklearn import preprocessing    #clase que permite hacer ETL \n",
        "#cambiar palabbras en orden alfabetico por números Female (0), Male (1)\n",
        "le =preprocessing.LabelEncoder()\n",
        "df_titanic['Sex']=le.fit_transform(df_titanic['Sex'])"
      ],
      "execution_count": 37,
      "outputs": []
    },
    {
      "cell_type": "code",
      "metadata": {
        "id": "mOdCnkM_lqtN",
        "colab": {
          "base_uri": "https://localhost:8080/",
          "height": 204
        },
        "outputId": "0c4036bf-740d-431b-f34a-ad095e1aeeb4"
      },
      "source": [
        "df_titanic.head()"
      ],
      "execution_count": 39,
      "outputs": [
        {
          "output_type": "execute_result",
          "data": {
            "text/html": [
              "<div>\n",
              "<style scoped>\n",
              "    .dataframe tbody tr th:only-of-type {\n",
              "        vertical-align: middle;\n",
              "    }\n",
              "\n",
              "    .dataframe tbody tr th {\n",
              "        vertical-align: top;\n",
              "    }\n",
              "\n",
              "    .dataframe thead th {\n",
              "        text-align: right;\n",
              "    }\n",
              "</style>\n",
              "<table border=\"1\" class=\"dataframe\">\n",
              "  <thead>\n",
              "    <tr style=\"text-align: right;\">\n",
              "      <th></th>\n",
              "      <th>Survived</th>\n",
              "      <th>Pclass</th>\n",
              "      <th>Sex</th>\n",
              "      <th>Age</th>\n",
              "      <th>SibSp</th>\n",
              "      <th>Parch</th>\n",
              "      <th>Fare</th>\n",
              "    </tr>\n",
              "  </thead>\n",
              "  <tbody>\n",
              "    <tr>\n",
              "      <th>0</th>\n",
              "      <td>0</td>\n",
              "      <td>3</td>\n",
              "      <td>1</td>\n",
              "      <td>22.0</td>\n",
              "      <td>1</td>\n",
              "      <td>0</td>\n",
              "      <td>7.2500</td>\n",
              "    </tr>\n",
              "    <tr>\n",
              "      <th>1</th>\n",
              "      <td>1</td>\n",
              "      <td>1</td>\n",
              "      <td>0</td>\n",
              "      <td>38.0</td>\n",
              "      <td>1</td>\n",
              "      <td>0</td>\n",
              "      <td>71.2833</td>\n",
              "    </tr>\n",
              "    <tr>\n",
              "      <th>2</th>\n",
              "      <td>1</td>\n",
              "      <td>3</td>\n",
              "      <td>0</td>\n",
              "      <td>26.0</td>\n",
              "      <td>0</td>\n",
              "      <td>0</td>\n",
              "      <td>7.9250</td>\n",
              "    </tr>\n",
              "    <tr>\n",
              "      <th>3</th>\n",
              "      <td>1</td>\n",
              "      <td>1</td>\n",
              "      <td>0</td>\n",
              "      <td>35.0</td>\n",
              "      <td>1</td>\n",
              "      <td>0</td>\n",
              "      <td>53.1000</td>\n",
              "    </tr>\n",
              "    <tr>\n",
              "      <th>4</th>\n",
              "      <td>0</td>\n",
              "      <td>3</td>\n",
              "      <td>1</td>\n",
              "      <td>35.0</td>\n",
              "      <td>0</td>\n",
              "      <td>0</td>\n",
              "      <td>8.0500</td>\n",
              "    </tr>\n",
              "  </tbody>\n",
              "</table>\n",
              "</div>"
            ],
            "text/plain": [
              "   Survived  Pclass  Sex   Age  SibSp  Parch     Fare\n",
              "0         0       3    1  22.0      1      0   7.2500\n",
              "1         1       1    0  38.0      1      0  71.2833\n",
              "2         1       3    0  26.0      0      0   7.9250\n",
              "3         1       1    0  35.0      1      0  53.1000\n",
              "4         0       3    1  35.0      0      0   8.0500"
            ]
          },
          "metadata": {
            "tags": []
          },
          "execution_count": 39
        }
      ]
    },
    {
      "cell_type": "markdown",
      "metadata": {
        "id": "XrVIuQr2mSSm"
      },
      "source": [
        "## instanciar el árbol"
      ]
    },
    {
      "cell_type": "code",
      "metadata": {
        "id": "MbdR9vR6mWIJ"
      },
      "source": [
        "#arbol = DecisionTreeClassifier()\r\n",
        "arbol = DecisionTreeClassifier(max_depth=5, random_state=0)"
      ],
      "execution_count": 58,
      "outputs": []
    },
    {
      "cell_type": "markdown",
      "metadata": {
        "id": "ltq35eBNm5Nb"
      },
      "source": [
        "##Separar datos de X y Y  y entrenar\n",
        "*  X= (Pclass + Sex +Age +Sibsp + Parch + Fare)\n",
        "*  y= survived\n"
      ]
    },
    {
      "cell_type": "code",
      "metadata": {
        "id": "2PMmWPi5nTO9",
        "colab": {
          "base_uri": "https://localhost:8080/"
        },
        "outputId": "243c75ae-a641-4f25-ffb1-17f4614c0011"
      },
      "source": [
        "X= df_titanic[[\"Pclass\",\"Sex\",\"Age\",\"SibSp\",\"Parch\"]]\n",
        "Y= df_titanic['Survived']\n",
        "#train y test, random_state=number --> estraer siempre los mismo datos en el entrenamiento (capacitación)\n",
        "X_train, X_test, Y_train,Y_test = train_test_split(X,Y,test_size=0.3, random_state=4)\n",
        "arbol.fit(X_train,Y_train)"
      ],
      "execution_count": 59,
      "outputs": [
        {
          "output_type": "execute_result",
          "data": {
            "text/plain": [
              "DecisionTreeClassifier(ccp_alpha=0.0, class_weight=None, criterion='gini',\n",
              "                       max_depth=5, max_features=None, max_leaf_nodes=None,\n",
              "                       min_impurity_decrease=0.0, min_impurity_split=None,\n",
              "                       min_samples_leaf=1, min_samples_split=2,\n",
              "                       min_weight_fraction_leaf=0.0, presort='deprecated',\n",
              "                       random_state=0, splitter='best')"
            ]
          },
          "metadata": {
            "tags": []
          },
          "execution_count": 59
        }
      ]
    },
    {
      "cell_type": "markdown",
      "metadata": {
        "id": "XVZYuS8Lo738"
      },
      "source": [
        "##predicciones"
      ]
    },
    {
      "cell_type": "code",
      "metadata": {
        "id": "6Qd-D1s2pDxb",
        "colab": {
          "base_uri": "https://localhost:8080/"
        },
        "outputId": "333b862b-c583-4087-f573-34dde9ddcfc1"
      },
      "source": [
        "y_train_predi=arbol.predict(X_train)\n",
        "y_test_predi= arbol.predict(X_test)\n",
        "#calcular la exactitud\n",
        "print(\"Accuracy of train: %\"+ str(accuracy_score(y_train_predi,Y_train)))\n",
        "print(\"Accuracy of test: %\"+ str(accuracy_score(y_test_predi, Y_test)))\n",
        "#overfitting \n",
        "print(\"Accuracy Global %\"+ str(arbol.score(X_test,Y_test)))"
      ],
      "execution_count": 60,
      "outputs": [
        {
          "output_type": "stream",
          "text": [
            "Accuracy of train: %0.8637274549098196\n",
            "Accuracy of test: %0.8046511627906977\n",
            "Accuracy Global %0.8046511627906977\n"
          ],
          "name": "stdout"
        }
      ]
    },
    {
      "cell_type": "markdown",
      "metadata": {
        "id": "anghO5V4x6CM"
      },
      "source": [
        "##GRaficando el arbol"
      ]
    },
    {
      "cell_type": "code",
      "metadata": {
        "id": "I7uBq9DRx903",
        "colab": {
          "base_uri": "https://localhost:8080/"
        },
        "outputId": "b84baab7-cf03-4b84-95de-90b979bcefe4"
      },
      "source": [
        "#clases para graficar\n",
        "classs_name_list= list([\"dead\",\"live\"])\n",
        "from sklearn.tree import export_graphviz\n",
        "from pydotplus import graph_from_dot_data\n",
        "dot_data= export_graphviz(arbol, feature_names=[\"Pclass\",\"Sex\",\"Age\",\"SibSp\",\"Parch\"],class_names=classs_name_list)\n",
        "graphic= graph_from_dot_data(dot_data)\n",
        "graphic.write_png(\"arbol_titanic_v3.png\")"
      ],
      "execution_count": 61,
      "outputs": [
        {
          "output_type": "execute_result",
          "data": {
            "text/plain": [
              "True"
            ]
          },
          "metadata": {
            "tags": []
          },
          "execution_count": 61
        }
      ]
    },
    {
      "cell_type": "markdown",
      "metadata": {
        "id": "zgT6-KZcLb9l"
      },
      "source": [
        "##probar arbol con diferentes profundidades"
      ]
    },
    {
      "cell_type": "code",
      "metadata": {
        "id": "55VvrIMBLflh"
      },
      "source": [
        "#lista_de_profundidades (1-6)\r\n",
        "depth_list = list(range(1,6))\r\n",
        "#vector de accuracy\r\n",
        "accuracy_list=[]\r\n",
        "for depth in depth_list:\r\n",
        "  arbol = DecisionTreeClassifier(max_depth=depth,random_state=42)\r\n",
        "  arbol.fit(X_train,Y_train)\r\n",
        "  score= arbol.score(X_test,Y_test)\r\n",
        "  accuracy_list.append(score)"
      ],
      "execution_count": 62,
      "outputs": []
    },
    {
      "cell_type": "markdown",
      "metadata": {
        "id": "7R00PWnGL26X"
      },
      "source": [
        "###Grafico de resultados"
      ]
    },
    {
      "cell_type": "code",
      "metadata": {
        "colab": {
          "base_uri": "https://localhost:8080/",
          "height": 296
        },
        "id": "MaMGa1UnL6GS",
        "outputId": "9231cc69-cd14-47e5-989b-475baea5c332"
      },
      "source": [
        "plt.plot (depth_list, accuracy_list)\r\n",
        "plt.ylabel('accuracy')\r\n",
        "plt.xlabel('depth')\r\n",
        "plt.grid(True)\r\n",
        "plt.show"
      ],
      "execution_count": 63,
      "outputs": [
        {
          "output_type": "execute_result",
          "data": {
            "text/plain": [
              "<function matplotlib.pyplot.show>"
            ]
          },
          "metadata": {
            "tags": []
          },
          "execution_count": 63
        },
        {
          "output_type": "display_data",
          "data": {
            "image/png": "[encoded data removed]",
            "text/plain": [
              "<Figure size 432x288 with 1 Axes>"
            ]
          },
          "metadata": {
            "tags": [],
            "needs_background": "light"
          }
        }
      ]
    },
    {
      "cell_type": "markdown",
      "metadata": {
        "id": "ybmClU0v3fEQ"
      },
      "source": [
        "#Árbol de desición para regresión"
      ]
    },
    {
      "cell_type": "markdown",
      "metadata": {
        "id": "OChO169n34RZ"
      },
      "source": [
        "##Importar liberias"
      ]
    },
    {
      "cell_type": "code",
      "metadata": {
        "id": "Qmpdv9Jf396y"
      },
      "source": [
        "import numpy as np\n",
        "import pandas as pd \n",
        "from sklearn.model_selection import train_test_split\n",
        "#from sklearn.tree import DecisionTreeClassifier\n",
        "from sklearn.tree import DecisionTreeRegressor    #clase para implementar un arbol de regresión\n",
        "from sklearn.metrics import accuracy_score\n",
        "import matplotlib.pyplot as plt\n",
        "import seaborn as sns"
      ],
      "execution_count": null,
      "outputs": []
    },
    {
      "cell_type": "markdown",
      "metadata": {
        "id": "B0IIY1-64VP7"
      },
      "source": [
        "##Cargando dataset"
      ]
    },
    {
      "cell_type": "code",
      "metadata": {
        "id": "h12r5m-84X9L",
        "colab": {
          "base_uri": "https://localhost:8080/",
          "height": 191
        },
        "outputId": "61987274-7f52-4aa8-93b2-1e3e0ea13740"
      },
      "source": [
        "df_gas = pd.read_csv(\"https://raw.githubusercontent.com/luisFernandoCastellanosG/Machine_learning/master/Databaset_para_trabajar_sklearn/petrol_consumption.csv\")\n",
        "df_gas.head()"
      ],
      "execution_count": null,
      "outputs": [
        {
          "output_type": "execute_result",
          "data": {
            "text/html": [
              "<div>\n",
              "<style scoped>\n",
              "    .dataframe tbody tr th:only-of-type {\n",
              "        vertical-align: middle;\n",
              "    }\n",
              "\n",
              "    .dataframe tbody tr th {\n",
              "        vertical-align: top;\n",
              "    }\n",
              "\n",
              "    .dataframe thead th {\n",
              "        text-align: right;\n",
              "    }\n",
              "</style>\n",
              "<table border=\"1\" class=\"dataframe\">\n",
              "  <thead>\n",
              "    <tr style=\"text-align: right;\">\n",
              "      <th></th>\n",
              "      <th>gasolina_impuesto</th>\n",
              "      <th>ingreso_promedio</th>\n",
              "      <th>carreteras_pavimentadas</th>\n",
              "      <th>porcen_licencias_conducion_poblacion</th>\n",
              "      <th>gasolina_Consumo</th>\n",
              "    </tr>\n",
              "  </thead>\n",
              "  <tbody>\n",
              "    <tr>\n",
              "      <th>0</th>\n",
              "      <td>9.0</td>\n",
              "      <td>3571</td>\n",
              "      <td>1976</td>\n",
              "      <td>0.525</td>\n",
              "      <td>541</td>\n",
              "    </tr>\n",
              "    <tr>\n",
              "      <th>1</th>\n",
              "      <td>9.0</td>\n",
              "      <td>4092</td>\n",
              "      <td>1250</td>\n",
              "      <td>0.572</td>\n",
              "      <td>524</td>\n",
              "    </tr>\n",
              "    <tr>\n",
              "      <th>2</th>\n",
              "      <td>9.0</td>\n",
              "      <td>3865</td>\n",
              "      <td>1586</td>\n",
              "      <td>0.580</td>\n",
              "      <td>561</td>\n",
              "    </tr>\n",
              "    <tr>\n",
              "      <th>3</th>\n",
              "      <td>7.5</td>\n",
              "      <td>4870</td>\n",
              "      <td>2351</td>\n",
              "      <td>0.529</td>\n",
              "      <td>414</td>\n",
              "    </tr>\n",
              "    <tr>\n",
              "      <th>4</th>\n",
              "      <td>8.0</td>\n",
              "      <td>4399</td>\n",
              "      <td>431</td>\n",
              "      <td>0.544</td>\n",
              "      <td>410</td>\n",
              "    </tr>\n",
              "  </tbody>\n",
              "</table>\n",
              "</div>"
            ],
            "text/plain": [
              "   gasolina_impuesto  ...  gasolina_Consumo\n",
              "0                9.0  ...               541\n",
              "1                9.0  ...               524\n",
              "2                9.0  ...               561\n",
              "3                7.5  ...               414\n",
              "4                8.0  ...               410\n",
              "\n",
              "[5 rows x 5 columns]"
            ]
          },
          "metadata": {
            "tags": []
          },
          "execution_count": 71
        }
      ]
    },
    {
      "cell_type": "markdown",
      "metadata": {
        "id": "L2aslDNC4za4"
      },
      "source": [
        "##Conociendo los datos"
      ]
    },
    {
      "cell_type": "code",
      "metadata": {
        "id": "YR8B2qNy42l0",
        "colab": {
          "base_uri": "https://localhost:8080/",
          "height": 115
        },
        "outputId": "7dbc627a-77fa-4819-dabf-b3db70ab3a46"
      },
      "source": [
        "df_gas.describe()\n",
        "df_gas.isnull().sum()"
      ],
      "execution_count": null,
      "outputs": [
        {
          "output_type": "execute_result",
          "data": {
            "text/plain": [
              "gasolina_impuesto                       0\n",
              "ingreso_promedio                        0\n",
              "carreteras_pavimentadas                 0\n",
              "porcen_licencias_conducion_poblacion    0\n",
              "gasolina_Consumo                        0\n",
              "dtype: int64"
            ]
          },
          "metadata": {
            "tags": []
          },
          "execution_count": 73
        }
      ]
    },
    {
      "cell_type": "markdown",
      "metadata": {
        "id": "ZdYq3KLn5es1"
      },
      "source": [
        "###graficando datos"
      ]
    },
    {
      "cell_type": "code",
      "metadata": {
        "id": "uftAJx095hd3",
        "colab": {
          "base_uri": "https://localhost:8080/",
          "height": 944
        },
        "outputId": "e7d2f50f-5193-44ac-af72-97799a8dfa6e"
      },
      "source": [
        "sns.pairplot(df_gas)"
      ],
      "execution_count": null,
      "outputs": [
        {
          "output_type": "execute_result",
          "data": {
            "text/plain": [
              "<seaborn.axisgrid.PairGrid at 0x7fa873bc1e48>"
            ]
          },
          "metadata": {
            "tags": []
          },
          "execution_count": 74
        },
        {
          "output_type": "display_data",
          "data": {
            "image/png": "[encoded data removed]",
            "text/plain": [
              "<Figure size 900x900 with 30 Axes>"
            ]
          },
          "metadata": {
            "tags": [],
            "needs_background": "light"
          }
        }
      ]
    },
    {
      "cell_type": "markdown",
      "metadata": {
        "id": "Esmw9FuI6OtV"
      },
      "source": [
        "##Separar datos X y Y"
      ]
    },
    {
      "cell_type": "code",
      "metadata": {
        "id": "HtDcuUGx6Uof"
      },
      "source": [
        "Y= df_gas['gasolina_Consumo']\n",
        "X = df_gas.drop('gasolina_Consumo', axis=1)"
      ],
      "execution_count": null,
      "outputs": []
    },
    {
      "cell_type": "markdown",
      "metadata": {
        "id": "K7b67qox69uj"
      },
      "source": [
        "##Separamos los conjuntos de TRAIN y TEST"
      ]
    },
    {
      "cell_type": "code",
      "metadata": {
        "id": "pG0fyY4y6wh3"
      },
      "source": [
        "X_train, X_test, Y_train,Y_test = train_test_split(X,Y,test_size=0.2)"
      ],
      "execution_count": null,
      "outputs": []
    },
    {
      "cell_type": "markdown",
      "metadata": {
        "id": "73o5AZ7Y7NWC"
      },
      "source": [
        "##Crear instancia del árbol y entrenar modelo"
      ]
    },
    {
      "cell_type": "code",
      "metadata": {
        "id": "CIru2Zwa7Ujr",
        "colab": {
          "base_uri": "https://localhost:8080/",
          "height": 119
        },
        "outputId": "de2e6882-9a81-412e-f79c-bfbde912ed4a"
      },
      "source": [
        "arbol_regre=DecisionTreeRegressor()\n",
        "arbol_regre.fit(X_train, Y_train)"
      ],
      "execution_count": null,
      "outputs": [
        {
          "output_type": "execute_result",
          "data": {
            "text/plain": [
              "DecisionTreeRegressor(ccp_alpha=0.0, criterion='mse', max_depth=None,\n",
              "                      max_features=None, max_leaf_nodes=None,\n",
              "                      min_impurity_decrease=0.0, min_impurity_split=None,\n",
              "                      min_samples_leaf=1, min_samples_split=2,\n",
              "                      min_weight_fraction_leaf=0.0, presort='deprecated',\n",
              "                      random_state=None, splitter='best')"
            ]
          },
          "metadata": {
            "tags": []
          },
          "execution_count": 80
        }
      ]
    },
    {
      "cell_type": "markdown",
      "metadata": {
        "id": "Q1VD3wyA7ikl"
      },
      "source": [
        "##pedicciones"
      ]
    },
    {
      "cell_type": "code",
      "metadata": {
        "id": "k0DigNiJ7nrc",
        "colab": {
          "base_uri": "https://localhost:8080/",
          "height": 68
        },
        "outputId": "aa01d962-e5dd-4b68-d5bd-3410cee8ebb2"
      },
      "source": [
        "y_train_predi=arbol_regre.predict(X_train)\n",
        "y_test_predi= arbol_regre.predict(X_test)\n",
        "#calcular la exactitud\n",
        "print(\"Accuracy of train: %\"+ str(accuracy_score(y_train_predi,Y_train)))\n",
        "print(\"Accuracy of test: %\"+ str(accuracy_score(y_test_predi, Y_test)))\n",
        "#overfitting \n",
        "print(\"Accuracy Global %\"+ str(arbol_regre.score(X_test,Y_test)))"
      ],
      "execution_count": null,
      "outputs": [
        {
          "output_type": "stream",
          "text": [
            "Accuracy of train: %1.0\n",
            "Accuracy of test: %0.0\n",
            "Accuracy Global %0.5288662388501566\n"
          ],
          "name": "stdout"
        }
      ]
    },
    {
      "cell_type": "markdown",
      "metadata": {
        "id": "l8ZcnXfQ8thx"
      },
      "source": [
        "##Graficando resultados"
      ]
    },
    {
      "cell_type": "code",
      "metadata": {
        "id": "cjLRsCH48xMb",
        "colab": {
          "base_uri": "https://localhost:8080/",
          "height": 265
        },
        "outputId": "487cff66-2539-457c-a086-ca5818bfb2e5"
      },
      "source": [
        "plt.scatter(X_test.gasolina_impuesto,Y_test, color='red')\n",
        "plt.scatter(X_test.carreteras_pavimentadas,Y_test, color='green')\n",
        "plt.plot(X_test.gasolina_impuesto,arbol_regre.predict(X_test),color= 'blue')\n",
        "plt.plot(X_test.carreteras_pavimentadas,arbol_regre.predict(X_test),color= 'yellow')\n",
        "plt.show()"
      ],
      "execution_count": null,
      "outputs": [
        {
          "output_type": "display_data",
          "data": {
            "image/png": "[encoded data removed]",
            "text/plain": [
              "<Figure size 432x288 with 1 Axes>"
            ]
          },
          "metadata": {
            "tags": [],
            "needs_background": "light"
          }
        }
      ]
    }
  ]
}