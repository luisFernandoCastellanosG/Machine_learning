{
  "nbformat": 4,
  "nbformat_minor": 0,
  "metadata": {
    "colab": {
      "name": "clasificacion_texto_español_ML_VS_DL.ipynb",
      "provenance": [],
      "collapsed_sections": [],
      "toc_visible": true
    },
    "kernelspec": {
      "name": "python3",
      "display_name": "Python 3"
    },
    "language_info": {
      "name": "python"
    }
  },
  "cells": [
    {
      "cell_type": "markdown",
      "source": [
        "**Clasificador de sentimientos**"
      ],
      "metadata": {
        "id": "JqKF6SQM9xxQ"
      }
    },
    {
      "cell_type": "markdown",
      "source": [
        "#Machine Learning classic (LogisticRegression)"
      ],
      "metadata": {
        "id": "iyUHfnZl96-y"
      }
    },
    {
      "cell_type": "code",
      "source": [
        "import matplotlib.pyplot as plt\n",
        "%matplotlib inline"
      ],
      "metadata": {
        "id": "wRjyDzhmmHYp"
      },
      "execution_count": null,
      "outputs": []
    },
    {
      "cell_type": "markdown",
      "source": [
        "##P0.descargando librerias\n",
        "\n",
        "---\n",
        "*   https://stackabuse.com/python-for-nlp-introduction-to-the-pattern-library/\n",
        "\n",
        "\n"
      ],
      "metadata": {
        "id": "A59i_bDf6ZZd"
      }
    },
    {
      "cell_type": "code",
      "execution_count": 3,
      "metadata": {
        "id": "sRK86J_QHkzD",
        "colab": {
          "base_uri": "https://localhost:8080/"
        },
        "outputId": "ca48605b-1a64-4b6f-dbc1-2f6a3f2af8ac"
      },
      "outputs": [
        {
          "output_type": "stream",
          "name": "stdout",
          "text": [
            "Collecting pyprind\n",
            "  Downloading PyPrind-2.11.3-py2.py3-none-any.whl (8.4 kB)\n",
            "Installing collected packages: pyprind\n",
            "Successfully installed pyprind-2.11.3\n"
          ]
        }
      ],
      "source": [
        "!pip install pyprind"
      ]
    },
    {
      "cell_type": "code",
      "source": [
        "import nltk\n",
        "nltk.download('stopwords') #Descargamos la lista de StopWord (pronombres, artículos, condicionales, demostrativos, adverbios de tiempo y lugar)"
      ],
      "metadata": {
        "colab": {
          "base_uri": "https://localhost:8080/"
        },
        "id": "QDBYoj1VJyv3",
        "outputId": "7618eabf-5db2-4e35-ff75-f661f9897031"
      },
      "execution_count": 4,
      "outputs": [
        {
          "output_type": "stream",
          "name": "stdout",
          "text": [
            "[nltk_data] Downloading package stopwords to /root/nltk_data...\n",
            "[nltk_data]   Unzipping corpora/stopwords.zip.\n"
          ]
        },
        {
          "output_type": "execute_result",
          "data": {
            "text/plain": [
              "True"
            ]
          },
          "metadata": {},
          "execution_count": 4
        }
      ]
    },
    {
      "cell_type": "code",
      "source": [
        "!pip install pattern  #libreria para PLN (Tokenización, derivación, etiquetado de POS, análisis de sentimientos, etc)"
      ],
      "metadata": {
        "id": "N4qcFCDTID7B"
      },
      "execution_count": null,
      "outputs": []
    },
    {
      "cell_type": "markdown",
      "source": [
        "##P1.Importando librerias"
      ],
      "metadata": {
        "id": "sFvnyohl6q7U"
      }
    },
    {
      "cell_type": "markdown",
      "source": [
        "###P1.1 Genericas"
      ],
      "metadata": {
        "id": "sc4QJGuN6uH5"
      }
    },
    {
      "cell_type": "code",
      "source": [
        "import urllib.request\n",
        "import numpy as np\n",
        "import pandas as pd \n",
        "import os\n",
        "import time\n",
        "import sys\n",
        "from zipfile import ZipFile       #para descomprimir ZIP\n",
        "#-----librerias para trabajar PLN\n",
        "import nltk\n",
        "#from pattern.es import lemma\n",
        "from nltk import word_tokenize\n",
        "from nltk.corpus import stopwords\n",
        "\n",
        "#----librerias para normalización de textos\n",
        "import re\n",
        "from unicodedata import normalize"
      ],
      "metadata": {
        "id": "biLcEjex6xC6"
      },
      "execution_count": 5,
      "outputs": []
    },
    {
      "cell_type": "markdown",
      "source": [
        "###P1.2 Machine Learning"
      ],
      "metadata": {
        "id": "dyqlGEY66xlR"
      }
    },
    {
      "cell_type": "code",
      "source": [
        "from sklearn.linear_model import LogisticRegression\n",
        "from sklearn.model_selection import train_test_split\n",
        "\n",
        "#CountVectorizer proporcionado por la biblioteca scikit-learn para vectorizar oraciones.\n",
        "from sklearn.feature_extraction.text import CountVectorizer"
      ],
      "metadata": {
        "id": "5gO12J6j624V"
      },
      "execution_count": 6,
      "outputs": []
    },
    {
      "cell_type": "markdown",
      "source": [
        "##P2. descargando DataSet"
      ],
      "metadata": {
        "id": "s7A6niLL7L9G"
      }
    },
    {
      "cell_type": "code",
      "source": [
        "def reporthook(count, block_size, total_size):\n",
        "    global start_time\n",
        "    if count == 0:\n",
        "        start_time = time.time()\n",
        "        return\n",
        "    duration = time.time() - start_time\n",
        "    progress_size = int(count * block_size)\n",
        "    speed = progress_size / (1024.**2 * duration)\n",
        "    percent = count * block_size * 100. / total_size\n",
        "    sys.stdout.write(\"\\r%d%% | %d MB | %.2f MB/s | %d segundos transcurrido\" %\n",
        "                    (percent, progress_size / (1024.**2), speed, duration))\n",
        "    sys.stdout.flush()\n",
        "\n",
        "url_github_Model='https://github.com/luisFernandoCastellanosG/Machine_learning/blob/master/2-Deep_Learning/PLN/Datasets/DataSetOpiniones.zip?raw=true'\n",
        "urllib.request.urlretrieve(url_github_Model,\n",
        "                           'DataSetOpiniones.zip', \n",
        "                           reporthook)"
      ],
      "metadata": {
        "colab": {
          "base_uri": "https://localhost:8080/"
        },
        "id": "FUpdOUX27P7j",
        "outputId": "921a9454-4753-41b8-c212-dc31ecdca860"
      },
      "execution_count": 7,
      "outputs": [
        {
          "output_type": "stream",
          "name": "stdout",
          "text": [
            "105% | 0 MB | 4.16 MB/s | 0 segundos transcurrido"
          ]
        },
        {
          "output_type": "execute_result",
          "data": {
            "text/plain": [
              "('DataSetOpiniones.zip', <http.client.HTTPMessage at 0x7f57e498ea50>)"
            ]
          },
          "metadata": {},
          "execution_count": 7
        }
      ]
    },
    {
      "cell_type": "markdown",
      "source": [
        "##P3.descomprimir Zip y cargar en Dataframe"
      ],
      "metadata": {
        "id": "etR_aow_9HGB"
      }
    },
    {
      "cell_type": "markdown",
      "source": [
        "###P3.1 descomprimir ZIP"
      ],
      "metadata": {
        "id": "H3uwJMQD_G_Y"
      }
    },
    {
      "cell_type": "code",
      "source": [
        "test_file_name = \"/content/DataSetOpiniones.zip\"\n",
        "\n",
        "with ZipFile(test_file_name, 'r') as zip:\n",
        "    zip.printdir()\n",
        "    zip.extractall('DataSetOpiniones') "
      ],
      "metadata": {
        "colab": {
          "base_uri": "https://localhost:8080/"
        },
        "id": "cRaOl21f8tPy",
        "outputId": "14864b36-7c85-4056-d356-5189adb61535"
      },
      "execution_count": 8,
      "outputs": [
        {
          "output_type": "stream",
          "name": "stdout",
          "text": [
            "File Name                                             Modified             Size\n",
            "yelp_labelledes.csv                            2018-10-28 20:00:56        68705\n",
            "__MACOSX/                                      2018-10-28 20:41:30            0\n",
            "__MACOSX/._yelp_labelledes.csv                 2018-10-28 20:00:56          323\n",
            "amazon_cells_labelledes.csv                    2018-10-28 20:07:30        66148\n",
            "__MACOSX/._amazon_cells_labelledes.csv         2018-10-28 20:07:30          323\n",
            "imdb_labelledes.csv                            2018-10-28 20:20:24        93446\n",
            "__MACOSX/._imdb_labelledes.csv                 2018-10-28 20:20:24          323\n"
          ]
        }
      ]
    },
    {
      "cell_type": "markdown",
      "source": [
        "###P3.2 carga los CSV en Dataframe"
      ],
      "metadata": {
        "id": "Mhaaszhb9NLc"
      }
    },
    {
      "cell_type": "code",
      "source": [
        "filepath_dict = {'yelp':   '/content/DataSetOpiniones/amazon_cells_labelledes.csv',\n",
        "                 'amazon': '/content/DataSetOpiniones/amazon_cells_labelledes.csv',\n",
        "                 'imdb':   '/content/DataSetOpiniones/imdb_labelledes.csv'}\n",
        "\n",
        "df_list = []\n",
        "for source, filepath in filepath_dict.items():\n",
        "    df = pd.read_csv(filepath, names=['sentence', 'label'], sep='\\t')\n",
        "    df['source'] = source  # Add another column filled with the source name\n",
        "    df_list.append(df)\n",
        "\n",
        "df = pd.concat(df_list)\n",
        "df.head(10)"
      ],
      "metadata": {
        "colab": {
          "base_uri": "https://localhost:8080/",
          "height": 363
        },
        "id": "6Nd1B6Nn9UQs",
        "outputId": "7cb7be1f-ef64-4ce6-f1fb-06d2ffb860ce"
      },
      "execution_count": 9,
      "outputs": [
        {
          "output_type": "execute_result",
          "data": {
            "text/plain": [
              "                                            sentence  label source\n",
              "0  Así que no hay manera de que lo conecte aquí e...      0   yelp\n",
              "1                        Buen caso, excelente valor.      1   yelp\n",
              "2                             Ideal para la quijada.      1   yelp\n",
              "3  Atado al cargador para conversaciones que dura...      0   yelp\n",
              "4                            El micrófono es genial.      1   yelp\n",
              "5  Tengo que mover el enchufe para alinearlo corr...      0   yelp\n",
              "6  Si tiene varias docenas o varios cientos de co...      0   yelp\n",
              "7  Si eres propietario de Razr ... debes tener esto!      1   yelp\n",
              "8     No hace falta decir que desperdicié mi dinero.      0   yelp\n",
              "9              ¡Qué desperdicio de dinero y tiempo!.      0   yelp"
            ],
            "text/html": [
              "\n",
              "  <div id=\"df-a9e3ed2a-7c7c-43af-93bf-5d5d591508f5\">\n",
              "    <div class=\"colab-df-container\">\n",
              "      <div>\n",
              "<style scoped>\n",
              "    .dataframe tbody tr th:only-of-type {\n",
              "        vertical-align: middle;\n",
              "    }\n",
              "\n",
              "    .dataframe tbody tr th {\n",
              "        vertical-align: top;\n",
              "    }\n",
              "\n",
              "    .dataframe thead th {\n",
              "        text-align: right;\n",
              "    }\n",
              "</style>\n",
              "<table border=\"1\" class=\"dataframe\">\n",
              "  <thead>\n",
              "    <tr style=\"text-align: right;\">\n",
              "      <th></th>\n",
              "      <th>sentence</th>\n",
              "      <th>label</th>\n",
              "      <th>source</th>\n",
              "    </tr>\n",
              "  </thead>\n",
              "  <tbody>\n",
              "    <tr>\n",
              "      <th>0</th>\n",
              "      <td>Así que no hay manera de que lo conecte aquí e...</td>\n",
              "      <td>0</td>\n",
              "      <td>yelp</td>\n",
              "    </tr>\n",
              "    <tr>\n",
              "      <th>1</th>\n",
              "      <td>Buen caso, excelente valor.</td>\n",
              "      <td>1</td>\n",
              "      <td>yelp</td>\n",
              "    </tr>\n",
              "    <tr>\n",
              "      <th>2</th>\n",
              "      <td>Ideal para la quijada.</td>\n",
              "      <td>1</td>\n",
              "      <td>yelp</td>\n",
              "    </tr>\n",
              "    <tr>\n",
              "      <th>3</th>\n",
              "      <td>Atado al cargador para conversaciones que dura...</td>\n",
              "      <td>0</td>\n",
              "      <td>yelp</td>\n",
              "    </tr>\n",
              "    <tr>\n",
              "      <th>4</th>\n",
              "      <td>El micrófono es genial.</td>\n",
              "      <td>1</td>\n",
              "      <td>yelp</td>\n",
              "    </tr>\n",
              "    <tr>\n",
              "      <th>5</th>\n",
              "      <td>Tengo que mover el enchufe para alinearlo corr...</td>\n",
              "      <td>0</td>\n",
              "      <td>yelp</td>\n",
              "    </tr>\n",
              "    <tr>\n",
              "      <th>6</th>\n",
              "      <td>Si tiene varias docenas o varios cientos de co...</td>\n",
              "      <td>0</td>\n",
              "      <td>yelp</td>\n",
              "    </tr>\n",
              "    <tr>\n",
              "      <th>7</th>\n",
              "      <td>Si eres propietario de Razr ... debes tener esto!</td>\n",
              "      <td>1</td>\n",
              "      <td>yelp</td>\n",
              "    </tr>\n",
              "    <tr>\n",
              "      <th>8</th>\n",
              "      <td>No hace falta decir que desperdicié mi dinero.</td>\n",
              "      <td>0</td>\n",
              "      <td>yelp</td>\n",
              "    </tr>\n",
              "    <tr>\n",
              "      <th>9</th>\n",
              "      <td>¡Qué desperdicio de dinero y tiempo!.</td>\n",
              "      <td>0</td>\n",
              "      <td>yelp</td>\n",
              "    </tr>\n",
              "  </tbody>\n",
              "</table>\n",
              "</div>\n",
              "      <button class=\"colab-df-convert\" onclick=\"convertToInteractive('df-a9e3ed2a-7c7c-43af-93bf-5d5d591508f5')\"\n",
              "              title=\"Convert this dataframe to an interactive table.\"\n",
              "              style=\"display:none;\">\n",
              "        \n",
              "  <svg xmlns=\"http://www.w3.org/2000/svg\" height=\"24px\"viewBox=\"0 0 24 24\"\n",
              "       width=\"24px\">\n",
              "    <path d=\"M0 0h24v24H0V0z\" fill=\"none\"/>\n",
              "    <path d=\"M18.56 5.44l.94 2.06.94-2.06 2.06-.94-2.06-.94-.94-2.06-.94 2.06-2.06.94zm-11 1L8.5 8.5l.94-2.06 2.06-.94-2.06-.94L8.5 2.5l-.94 2.06-2.06.94zm10 10l.94 2.06.94-2.06 2.06-.94-2.06-.94-.94-2.06-.94 2.06-2.06.94z\"/><path d=\"M17.41 7.96l-1.37-1.37c-.4-.4-.92-.59-1.43-.59-.52 0-1.04.2-1.43.59L10.3 9.45l-7.72 7.72c-.78.78-.78 2.05 0 2.83L4 21.41c.39.39.9.59 1.41.59.51 0 1.02-.2 1.41-.59l7.78-7.78 2.81-2.81c.8-.78.8-2.07 0-2.86zM5.41 20L4 18.59l7.72-7.72 1.47 1.35L5.41 20z\"/>\n",
              "  </svg>\n",
              "      </button>\n",
              "      \n",
              "  <style>\n",
              "    .colab-df-container {\n",
              "      display:flex;\n",
              "      flex-wrap:wrap;\n",
              "      gap: 12px;\n",
              "    }\n",
              "\n",
              "    .colab-df-convert {\n",
              "      background-color: #E8F0FE;\n",
              "      border: none;\n",
              "      border-radius: 50%;\n",
              "      cursor: pointer;\n",
              "      display: none;\n",
              "      fill: #1967D2;\n",
              "      height: 32px;\n",
              "      padding: 0 0 0 0;\n",
              "      width: 32px;\n",
              "    }\n",
              "\n",
              "    .colab-df-convert:hover {\n",
              "      background-color: #E2EBFA;\n",
              "      box-shadow: 0px 1px 2px rgba(60, 64, 67, 0.3), 0px 1px 3px 1px rgba(60, 64, 67, 0.15);\n",
              "      fill: #174EA6;\n",
              "    }\n",
              "\n",
              "    [theme=dark] .colab-df-convert {\n",
              "      background-color: #3B4455;\n",
              "      fill: #D2E3FC;\n",
              "    }\n",
              "\n",
              "    [theme=dark] .colab-df-convert:hover {\n",
              "      background-color: #434B5C;\n",
              "      box-shadow: 0px 1px 3px 1px rgba(0, 0, 0, 0.15);\n",
              "      filter: drop-shadow(0px 1px 2px rgba(0, 0, 0, 0.3));\n",
              "      fill: #FFFFFF;\n",
              "    }\n",
              "  </style>\n",
              "\n",
              "      <script>\n",
              "        const buttonEl =\n",
              "          document.querySelector('#df-a9e3ed2a-7c7c-43af-93bf-5d5d591508f5 button.colab-df-convert');\n",
              "        buttonEl.style.display =\n",
              "          google.colab.kernel.accessAllowed ? 'block' : 'none';\n",
              "\n",
              "        async function convertToInteractive(key) {\n",
              "          const element = document.querySelector('#df-a9e3ed2a-7c7c-43af-93bf-5d5d591508f5');\n",
              "          const dataTable =\n",
              "            await google.colab.kernel.invokeFunction('convertToInteractive',\n",
              "                                                     [key], {});\n",
              "          if (!dataTable) return;\n",
              "\n",
              "          const docLinkHtml = 'Like what you see? Visit the ' +\n",
              "            '<a target=\"_blank\" href=https://colab.research.google.com/notebooks/data_table.ipynb>data table notebook</a>'\n",
              "            + ' to learn more about interactive tables.';\n",
              "          element.innerHTML = '';\n",
              "          dataTable['output_type'] = 'display_data';\n",
              "          await google.colab.output.renderOutput(dataTable, element);\n",
              "          const docLink = document.createElement('div');\n",
              "          docLink.innerHTML = docLinkHtml;\n",
              "          element.appendChild(docLink);\n",
              "        }\n",
              "      </script>\n",
              "    </div>\n",
              "  </div>\n",
              "  "
            ]
          },
          "metadata": {},
          "execution_count": 9
        }
      ]
    },
    {
      "cell_type": "markdown",
      "source": [
        "##P4. conociendo la data (BagWord)"
      ],
      "metadata": {
        "id": "dzuLqVT4_aTz"
      }
    },
    {
      "cell_type": "code",
      "source": [
        "print('RowsXcolums-->',df.shape)\n",
        "print('yelp-->',sum(df['source'] == 'yelp'))\n",
        "print('amazon-->',sum(df['source'] == 'amazon'))\n",
        "print('imdb-->',sum(df['source'] == 'imdb'))"
      ],
      "metadata": {
        "colab": {
          "base_uri": "https://localhost:8080/"
        },
        "id": "Iu8Sr3DNDTbY",
        "outputId": "4468e6a0-db60-4cce-afc6-33deec6d0d70"
      },
      "execution_count": 79,
      "outputs": [
        {
          "output_type": "stream",
          "name": "stdout",
          "text": [
            "RowsXcolums--> (3000, 3)\n",
            "yelp--> 1000\n",
            "amazon--> 1000\n",
            "imdb--> 1000\n"
          ]
        }
      ]
    },
    {
      "cell_type": "markdown",
      "source": [
        "###P4.1 usando CountVectorizer (ejemplo)\n",
        "\n",
        "---\n",
        "\n",
        "CountVectorizer proporcionado por la biblioteca scikit-learn  realiza la tokenización que separa las oraciones en un conjunto de tokens ordenado por vocabulario. Además, elimina la puntuación y los caracteres especiales y puede aplicar otro preprocesamiento a cada palabra"
      ],
      "metadata": {
        "id": "EqzNjPpy_fVh"
      }
    },
    {
      "cell_type": "code",
      "source": [
        "#obtener las palabras que aparecen de acuerdo con el Orden del vocabulario\n",
        "oraciones = ['A Juan le gusta el chocolate', 'Juan odia el chocolate']\n",
        "vectorizer = CountVectorizer(min_df=0, lowercase=True,stop_words=stopwords.words('spanish'))   \n",
        "     \n",
        "vectorizer.fit(oraciones)"
      ],
      "metadata": {
        "colab": {
          "base_uri": "https://localhost:8080/"
        },
        "id": "tPSOifC8_q8G",
        "outputId": "09ec9fab-cfca-46ed-d5e6-65bdb8037c34"
      },
      "execution_count": 10,
      "outputs": [
        {
          "output_type": "execute_result",
          "data": {
            "text/plain": [
              "CountVectorizer(min_df=0,\n",
              "                stop_words=['de', 'la', 'que', 'el', 'en', 'y', 'a', 'los',\n",
              "                            'del', 'se', 'las', 'por', 'un', 'para', 'con',\n",
              "                            'no', 'una', 'su', 'al', 'lo', 'como', 'más',\n",
              "                            'pero', 'sus', 'le', 'ya', 'o', 'este', 'sí',\n",
              "                            'porque', ...])"
            ]
          },
          "metadata": {},
          "execution_count": 10
        }
      ]
    },
    {
      "cell_type": "code",
      "source": [
        "vectorizer.get_feature_names_out()"
      ],
      "metadata": {
        "colab": {
          "base_uri": "https://localhost:8080/"
        },
        "id": "DOAA-noR9umj",
        "outputId": "1c49f2b5-bceb-432c-d50c-d43ad5d7ec69"
      },
      "execution_count": 11,
      "outputs": [
        {
          "output_type": "execute_result",
          "data": {
            "text/plain": [
              "array(['chocolate', 'gusta', 'juan', 'odia'], dtype=object)"
            ]
          },
          "metadata": {},
          "execution_count": 11
        }
      ]
    },
    {
      "cell_type": "code",
      "source": [
        "vectorizer.vocabulary_"
      ],
      "metadata": {
        "colab": {
          "base_uri": "https://localhost:8080/"
        },
        "id": "2XrAVY8a94ck",
        "outputId": "0f9e8d50-984e-405e-c1a5-b7db1543987a"
      },
      "execution_count": 12,
      "outputs": [
        {
          "output_type": "execute_result",
          "data": {
            "text/plain": [
              "{'chocolate': 0, 'gusta': 1, 'juan': 2, 'odia': 3}"
            ]
          },
          "metadata": {},
          "execution_count": 12
        }
      ]
    },
    {
      "cell_type": "code",
      "source": [
        "#bolsa de palabras (Cada documento se representa como un vector)\n",
        "#vectorizer.transform(oraciones).toarray()\n",
        "array=vectorizer.transform(oraciones)\n",
        "print(array.toarray())"
      ],
      "metadata": {
        "colab": {
          "base_uri": "https://localhost:8080/"
        },
        "id": "dCUjbpmWAxFn",
        "outputId": "d192cf9f-c0d9-431b-bae4-679103214f33"
      },
      "execution_count": 40,
      "outputs": [
        {
          "output_type": "stream",
          "name": "stdout",
          "text": [
            "[[1 1 1 1 1 0]\n",
            " [1 1 0 1 0 1]]\n"
          ]
        }
      ]
    },
    {
      "cell_type": "markdown",
      "source": [
        "###P4.2 usando CountVectorizer con datos de YELP"
      ],
      "metadata": {
        "id": "6gS_855WC61s"
      }
    },
    {
      "cell_type": "code",
      "source": [
        "df_yelp = df[df['source'] == 'yelp']\n",
        "sentences = df_yelp['sentence'].values\n",
        "y = df_yelp['label'].values\n",
        "\n",
        "sentences_train, sentences_test, y_train, y_test = train_test_split(\n",
        "   sentences, y, test_size=0.25, random_state=1000)"
      ],
      "metadata": {
        "id": "mTMLugz1DC6k"
      },
      "execution_count": 13,
      "outputs": []
    },
    {
      "cell_type": "markdown",
      "source": [
        "###P4.3 generar BagWords \n",
        "\n",
        "---\n",
        "\n"
      ],
      "metadata": {
        "id": "EQGgkWRcFlMH"
      }
    },
    {
      "cell_type": "code",
      "source": [
        "#generamos los vectores de palabras (750x1681) registrosXtamaño del vocabulario\n",
        "#vectorizer = CountVectorizer(min_df=0, lowercase=True,stop_words=stopwords.words('spanish'))   \n",
        "vectorizer = CountVectorizer(min_df=0, lowercase=True)   \n",
        "vectorizer.fit(sentences_train)\n",
        "\n",
        "X_train = vectorizer.transform(sentences_train)\n",
        "X_test  = vectorizer.transform(sentences_test)\n",
        "#print(X_train.toarray())"
      ],
      "metadata": {
        "id": "AGtj_R88F9WI"
      },
      "execution_count": 14,
      "outputs": []
    },
    {
      "cell_type": "code",
      "source": [
        "print(X_train.toarray())\n",
        "X_train.shape"
      ],
      "metadata": {
        "id": "8c4NTBOK9N2F"
      },
      "execution_count": null,
      "outputs": []
    },
    {
      "cell_type": "markdown",
      "source": [
        "##P5.modelo de ML (regresión logistica)."
      ],
      "metadata": {
        "id": "wA0NbJJ6G5m4"
      }
    },
    {
      "cell_type": "code",
      "source": [
        "classifier = LogisticRegression()\n",
        "classifier.fit(X_train, y_train)\n",
        "score = classifier.score(X_test, y_test)\n",
        "\n",
        "print(\"Precisión:\", score)"
      ],
      "metadata": {
        "colab": {
          "base_uri": "https://localhost:8080/"
        },
        "id": "dR5BKu3nG-aY",
        "outputId": "f056403b-c073-4cd1-e273-0b5bd966b130"
      },
      "execution_count": 16,
      "outputs": [
        {
          "output_type": "stream",
          "name": "stdout",
          "text": [
            "Precisión: 0.796\n"
          ]
        }
      ]
    },
    {
      "cell_type": "markdown",
      "source": [
        "###P5.1 evaluando modelo por cada set de datos"
      ],
      "metadata": {
        "id": "twF2Dgu4Jj_w"
      }
    },
    {
      "cell_type": "code",
      "source": [
        "for source in df['source'].unique():\n",
        "    df_source = df[df['source'] == source]\n",
        "    sentences = df_source['sentence'].values\n",
        "    y = df_source['label'].values\n",
        "    sentences_train, sentences_test, y_train, y_test = train_test_split(\n",
        "        sentences, y, test_size=0.25, random_state=1000)\n",
        "    vectorizer = CountVectorizer(min_df=0, lowercase=True) \n",
        "    vectorizer.fit(sentences_train)\n",
        "    X_train = vectorizer.transform(sentences_train)\n",
        "    X_test  = vectorizer.transform(sentences_test)\n",
        "    classifier = LogisticRegression()\n",
        "    classifier.fit(X_train, y_train)\n",
        "    score = classifier.score(X_test, y_test)\n",
        "    print('Precisión para datos {}: {:.4f}'.format(source, score))"
      ],
      "metadata": {
        "colab": {
          "base_uri": "https://localhost:8080/"
        },
        "id": "qlYJvkroJyCe",
        "outputId": "a0824ed7-063f-41fa-daf0-487170cd79f5"
      },
      "execution_count": 17,
      "outputs": [
        {
          "output_type": "stream",
          "name": "stdout",
          "text": [
            "Precisión para datos yelp: 0.7960\n",
            "Precisión para datos amazon: 0.7960\n",
            "Precisión para datos imdb: 0.7720\n"
          ]
        }
      ]
    },
    {
      "cell_type": "markdown",
      "source": [
        "###P5.2 evaluando modelo con fulldata"
      ],
      "metadata": {
        "id": "j0WMdb2rJ_dO"
      }
    },
    {
      "cell_type": "code",
      "source": [
        "sentences = df['sentence'].values\n",
        "y = df['label'].values\n",
        "sentences_train, sentences_test, y_train, y_test = train_test_split(\n",
        "   sentences, y, test_size=0.25, random_state=1000)\n",
        "\n",
        "vectorizer = CountVectorizer(min_df=0, lowercase=True)   \n",
        "vectorizer.fit(sentences_train)\n",
        "\n",
        "X_train = vectorizer.transform(sentences_train)\n",
        "X_test  = vectorizer.transform(sentences_test)\n",
        "modeloPLNRegLog = LogisticRegression()\n",
        "modeloPLNRegLog.fit(X_train, y_train)\n",
        "score = modeloPLNRegLog.score(X_test, y_test)\n",
        "\n",
        "print(\"Precisión:\", score)"
      ],
      "metadata": {
        "colab": {
          "base_uri": "https://localhost:8080/"
        },
        "id": "Yd5D2bYQKJp1",
        "outputId": "0b7bc502-7568-40ed-b901-d6fecd693c0f"
      },
      "execution_count": 18,
      "outputs": [
        {
          "output_type": "stream",
          "name": "stdout",
          "text": [
            "Precisión: 0.8773333333333333\n"
          ]
        }
      ]
    },
    {
      "cell_type": "markdown",
      "source": [
        "###P5.3 Salvando el modelo (serializando)\n",
        "\n",
        "---\n",
        "*   salvaremos el modelo y el vocabulario generado del bagWords\n",
        "*   para ver metodos de exportación:\n",
        "https://machinelearningmastery.com/save-load-machine-learning-models-python-scikit-learn/\n"
      ],
      "metadata": {
        "id": "2W_L13SfpRpb"
      }
    },
    {
      "cell_type": "code",
      "source": [
        "import pickle\n",
        "#serializando el modelo\n",
        "pickle.dump(modeloPLNRegLog, open( 'LogRegression_PLN_classSentimientos_model.sav', 'wb'))\n",
        "#serializando el vocabulario\n",
        "feature_list = vectorizer.get_feature_names_out()\n",
        "pickle.dump(feature_list, open('vocabulary.pkl', 'wb'))"
      ],
      "metadata": {
        "id": "ZN96BYtxpiKT"
      },
      "execution_count": 19,
      "outputs": []
    },
    {
      "cell_type": "markdown",
      "source": [
        "###P5.4 cargando el modelo (serializado)"
      ],
      "metadata": {
        "id": "aPuU175xqf5p"
      }
    },
    {
      "cell_type": "code",
      "source": [
        "#cargando el modelo\n",
        "modeloPLNRegLogNew = pickle.load(open('LogRegression_PLN_classSentimientos_model.sav', 'rb'))\n",
        "#cargando el vocabulario\n",
        "vocabularyNew= pickle.load(open('vocabulary.pkl', 'rb'))\n",
        "vectorizerNew = CountVectorizer(min_df=0, lowercase=True,vocabulary = vocabularyNew)  #creando un nuevo vectorizador con el vocabulario cargado\n",
        "result = modeloPLNRegLogNew.score(X_test, y_test)   #probado con el test de entrenamiento a ver si funciona\n",
        "print('Inferencia:%',result)"
      ],
      "metadata": {
        "colab": {
          "base_uri": "https://localhost:8080/"
        },
        "id": "f9ALLCc3qrii",
        "outputId": "c1363da6-c4f7-49a1-9a5c-4fa15ad1f26c"
      },
      "execution_count": 21,
      "outputs": [
        {
          "output_type": "stream",
          "name": "stdout",
          "text": [
            "Inferencia:% 0.8773333333333333\n"
          ]
        }
      ]
    },
    {
      "cell_type": "markdown",
      "source": [
        "###P5.5 Haciendo predicciones"
      ],
      "metadata": {
        "id": "xpT6GAytsJXn"
      }
    },
    {
      "cell_type": "code",
      "source": [
        "oracion = ['estoy feliz con mi celular']\n",
        "X_prueba = vectorizerNew.transform(oracion)  #convertimos la oración al array del bagword\n",
        "\n",
        "#print('vector:',X_prueba[0].toarray())\n",
        "predict=modeloPLNRegLogNew.predict(X_prueba)\n",
        "print(oracion,', El sentimiento es :',predict)\n"
      ],
      "metadata": {
        "colab": {
          "base_uri": "https://localhost:8080/"
        },
        "id": "yeEJoVSYsOp1",
        "outputId": "f8234e9e-3e6e-4113-ad34-3ea40bcdba8b"
      },
      "execution_count": 22,
      "outputs": [
        {
          "output_type": "stream",
          "name": "stdout",
          "text": [
            "['estoy feliz con mi celular'] , El sentimiento es : [1]\n"
          ]
        }
      ]
    },
    {
      "cell_type": "markdown",
      "source": [
        "#Deep Learning\n",
        "\n",
        "---\n",
        "Donde usaremos Las redes neuronales, o algunas veces llamadas redes neuronales artificiales (RNA)\n",
        "![neural-670x352.jpeg](data:image/jpeg;base64,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)\n"
      ],
      "metadata": {
        "id": "W2R5BHYRk0tV"
      }
    },
    {
      "cell_type": "markdown",
      "source": [
        "**Notas:**\n",
        "*  la ultima capa es una sola neurona ya que el resultado es binario (1 o 0), pero si tiene varias categorías, debe usar varios neuronas para cada categoría.\n",
        "*  Puede tener tantas capas ocultas como desee. De hecho, una red neuronal con más de una capa oculta se considera una red neuronal profunda.\n",
        "*  el peso de cada neurona se calcula en el entrenamiento y comienza con la inicialización de los pesos con valores aleatorios y luego se entrenan con un método llamado backpropagation.\n",
        "*   Esto se hace utilizando métodos de optimización como el descenso de gradiente para reducir el error entre la salida calculada y la deseada (también llamada salida objetivo)...el mejor es ADAM\n",
        "*   Para calcular El error está determinado por una función de pérdida cuya pérdida queremos minimizar con el optimizador. en este tutorial solo necesitará la función de pérdida de entropía cruzada binaria que se usa para los problemas de clasificación binaria.\n"
      ],
      "metadata": {
        "id": "ebKkzzVwlyxi"
      }
    },
    {
      "cell_type": "markdown",
      "source": [
        "##Usando KERAS\n",
        "\n",
        "---\n",
        "\n",
        "Usaremos un modelo secuencial que es una pila lineal de capas, donde puede usar la gran variedad de capas disponibles en Keras. La capa más común es la capa Densa, que es su capa de red neuronal densamente conectada con todos los pesos y sesgos con los que ya está familiarizado"
      ],
      "metadata": {
        "id": "Zud07_sXrOCN"
      }
    },
    {
      "cell_type": "markdown",
      "source": [
        "##P0.importando librerias"
      ],
      "metadata": {
        "id": "A7451eI5rpj8"
      }
    },
    {
      "cell_type": "code",
      "source": [
        "from keras.models import Sequential\n",
        "from keras import layers"
      ],
      "metadata": {
        "id": "jOlqKtc3rm86"
      },
      "execution_count": 23,
      "outputs": []
    },
    {
      "cell_type": "markdown",
      "source": [
        "##P1.Creando modelo secuencial\n",
        "\n",
        "---\n",
        "*  1° capa tendremos doble capa \n",
        "*   - 1° # dimensiones (4085 columnas)\n",
        "*   - 2° 10 neuronas\n",
        "*   usaremos como activación RELU/Sigmoidal"
      ],
      "metadata": {
        "id": "7zlgQ1Ttr4xj"
      }
    },
    {
      "cell_type": "code",
      "source": [
        "input_dim = X_train.shape[1]  # Numero de características (neuronas de entrada)\n",
        "print(\"neuronas de entrada (columnas del vector de entrenamiento):\",input_dim)"
      ],
      "metadata": {
        "colab": {
          "base_uri": "https://localhost:8080/"
        },
        "id": "z22eOcn9QCWg",
        "outputId": "9930409d-6f19-46ad-c6d3-fc142bf9ca60"
      },
      "execution_count": 39,
      "outputs": [
        {
          "output_type": "stream",
          "name": "stdout",
          "text": [
            "neuronas de entrada (columnas del vector de entrenamiento): 4085\n"
          ]
        }
      ]
    },
    {
      "cell_type": "code",
      "source": [
        "model = Sequential()\n",
        "model.add(layers.Dense(10, input_dim=input_dim, activation='relu')) #1° # dimensiones (4085 columnas), 2° 10 neuronas\n",
        "#model.add(layers.Dense(10, input_dim=input_dim, activation='relu'))  #que pasa si agregamos otra capa (mejorara?)\n",
        "model.add(layers.Dense(1, activation='sigmoid'))"
      ],
      "metadata": {
        "id": "fW_l8qLXr8k7"
      },
      "execution_count": 40,
      "outputs": []
    },
    {
      "cell_type": "markdown",
      "source": [
        "##P2. compilando el modelo.\n",
        "\n",
        "---\n",
        "Antes de que pueda comenzar con el entrenamiento del modelo, debe configurar el proceso de aprendizaje. Esto se hace con el método .compile().\n",
        "*   Este método especifica el optimizador y la función de pérdida\n",
        "*   agregamos una lista de métricas que luego se pueden usar para la evaluación (accuracy o Loss)\n"
      ],
      "metadata": {
        "id": "gFvhSop9tK8I"
      }
    },
    {
      "cell_type": "code",
      "source": [
        "model.compile(loss='binary_crossentropy', \n",
        "              optimizer='adam', \n",
        "              metrics=['accuracy'])\n",
        "model.summary()"
      ],
      "metadata": {
        "colab": {
          "base_uri": "https://localhost:8080/"
        },
        "id": "Us0L1XcstmR6",
        "outputId": "494f0911-8998-4480-e26c-4cb900d9de92"
      },
      "execution_count": 41,
      "outputs": [
        {
          "output_type": "stream",
          "name": "stdout",
          "text": [
            "Model: \"sequential_4\"\n",
            "_________________________________________________________________\n",
            " Layer (type)                Output Shape              Param #   \n",
            "=================================================================\n",
            " dense_9 (Dense)             (None, 10)                40860     \n",
            "                                                                 \n",
            " dense_10 (Dense)            (None, 10)                110       \n",
            "                                                                 \n",
            " dense_11 (Dense)            (None, 1)                 11        \n",
            "                                                                 \n",
            "=================================================================\n",
            "Total params: 40,981\n",
            "Trainable params: 40,981\n",
            "Non-trainable params: 0\n",
            "_________________________________________________________________\n"
          ]
        }
      ]
    },
    {
      "cell_type": "markdown",
      "source": [
        "##P3. entrenamos el modelo"
      ],
      "metadata": {
        "id": "A2g7vnj8yjke"
      }
    },
    {
      "cell_type": "code",
      "source": [
        "history = model.fit(X_train, y_train,\n",
        "                    epochs=100,\n",
        "                    verbose=True,\n",
        "                    validation_data=(X_test, y_test),\n",
        "                    batch_size=10)"
      ],
      "metadata": {
        "colab": {
          "base_uri": "https://localhost:8080/"
        },
        "id": "gt-ny-x0Liv_",
        "outputId": "239245f9-5071-459c-b2c3-e2090475b767"
      },
      "execution_count": 42,
      "outputs": [
        {
          "output_type": "stream",
          "name": "stdout",
          "text": [
            "Epoch 1/100\n"
          ]
        },
        {
          "output_type": "stream",
          "name": "stderr",
          "text": [
            "/usr/local/lib/python3.7/dist-packages/tensorflow/python/framework/indexed_slices.py:446: UserWarning: Converting sparse IndexedSlices(IndexedSlices(indices=Tensor(\"gradient_tape/sequential_4/dense_9/embedding_lookup_sparse/Reshape_1:0\", shape=(None,), dtype=int32), values=Tensor(\"gradient_tape/sequential_4/dense_9/embedding_lookup_sparse/Reshape:0\", shape=(None, 10), dtype=float32), dense_shape=Tensor(\"gradient_tape/sequential_4/dense_9/embedding_lookup_sparse/Cast:0\", shape=(2,), dtype=int32))) to a dense Tensor of unknown shape. This may consume a large amount of memory.\n",
            "  \"shape. This may consume a large amount of memory.\" % value)\n"
          ]
        },
        {
          "output_type": "stream",
          "name": "stdout",
          "text": [
            "225/225 [==============================] - 2s 4ms/step - loss: 0.6493 - accuracy: 0.6960 - val_loss: 0.5434 - val_accuracy: 0.8320\n",
            "Epoch 2/100\n",
            "225/225 [==============================] - 1s 2ms/step - loss: 0.3694 - accuracy: 0.8902 - val_loss: 0.3324 - val_accuracy: 0.8800\n",
            "Epoch 3/100\n",
            "225/225 [==============================] - 1s 2ms/step - loss: 0.1517 - accuracy: 0.9560 - val_loss: 0.2939 - val_accuracy: 0.8920\n",
            "Epoch 4/100\n",
            "225/225 [==============================] - 1s 3ms/step - loss: 0.0718 - accuracy: 0.9893 - val_loss: 0.2856 - val_accuracy: 0.9040\n",
            "Epoch 5/100\n",
            "225/225 [==============================] - 1s 3ms/step - loss: 0.0399 - accuracy: 0.9924 - val_loss: 0.3191 - val_accuracy: 0.8947\n",
            "Epoch 6/100\n",
            "225/225 [==============================] - 1s 2ms/step - loss: 0.0250 - accuracy: 0.9960 - val_loss: 0.3321 - val_accuracy: 0.8960\n",
            "Epoch 7/100\n",
            "225/225 [==============================] - 1s 3ms/step - loss: 0.0172 - accuracy: 0.9969 - val_loss: 0.3677 - val_accuracy: 0.8947\n",
            "Epoch 8/100\n",
            "225/225 [==============================] - 1s 2ms/step - loss: 0.0113 - accuracy: 0.9987 - val_loss: 0.3702 - val_accuracy: 0.8880\n",
            "Epoch 9/100\n",
            "225/225 [==============================] - 1s 2ms/step - loss: 0.0089 - accuracy: 0.9991 - val_loss: 0.3932 - val_accuracy: 0.8907\n",
            "Epoch 10/100\n",
            "225/225 [==============================] - 1s 3ms/step - loss: 0.0106 - accuracy: 0.9982 - val_loss: 0.4200 - val_accuracy: 0.8867\n",
            "Epoch 11/100\n",
            "225/225 [==============================] - 1s 3ms/step - loss: 0.0060 - accuracy: 0.9991 - val_loss: 0.4096 - val_accuracy: 0.8920\n",
            "Epoch 12/100\n",
            "225/225 [==============================] - 1s 2ms/step - loss: 0.0091 - accuracy: 0.9982 - val_loss: 0.4256 - val_accuracy: 0.8920\n",
            "Epoch 13/100\n",
            "225/225 [==============================] - 1s 2ms/step - loss: 0.0053 - accuracy: 0.9991 - val_loss: 0.4692 - val_accuracy: 0.8960\n",
            "Epoch 14/100\n",
            "225/225 [==============================] - 1s 3ms/step - loss: 0.0052 - accuracy: 0.9991 - val_loss: 0.4475 - val_accuracy: 0.8907\n",
            "Epoch 15/100\n",
            "225/225 [==============================] - 1s 3ms/step - loss: 0.0078 - accuracy: 0.9987 - val_loss: 0.4669 - val_accuracy: 0.8920\n",
            "Epoch 16/100\n",
            "225/225 [==============================] - 1s 2ms/step - loss: 0.0044 - accuracy: 0.9987 - val_loss: 0.5264 - val_accuracy: 0.8880\n",
            "Epoch 17/100\n",
            "225/225 [==============================] - 1s 3ms/step - loss: 0.0050 - accuracy: 0.9991 - val_loss: 0.4773 - val_accuracy: 0.8893\n",
            "Epoch 18/100\n",
            "225/225 [==============================] - 1s 3ms/step - loss: 0.0047 - accuracy: 0.9987 - val_loss: 0.5417 - val_accuracy: 0.8853\n",
            "Epoch 19/100\n",
            "225/225 [==============================] - 1s 2ms/step - loss: 0.0054 - accuracy: 0.9987 - val_loss: 0.5062 - val_accuracy: 0.8907\n",
            "Epoch 20/100\n",
            "225/225 [==============================] - 1s 2ms/step - loss: 0.0038 - accuracy: 0.9991 - val_loss: 0.5602 - val_accuracy: 0.8893\n",
            "Epoch 21/100\n",
            "225/225 [==============================] - 1s 2ms/step - loss: 0.0053 - accuracy: 0.9991 - val_loss: 0.5077 - val_accuracy: 0.8933\n",
            "Epoch 22/100\n",
            "225/225 [==============================] - 1s 3ms/step - loss: 0.0072 - accuracy: 0.9987 - val_loss: 0.5319 - val_accuracy: 0.8907\n",
            "Epoch 23/100\n",
            "225/225 [==============================] - 1s 2ms/step - loss: 0.0070 - accuracy: 0.9987 - val_loss: 0.5282 - val_accuracy: 0.8907\n",
            "Epoch 24/100\n",
            "225/225 [==============================] - 1s 2ms/step - loss: 0.0067 - accuracy: 0.9987 - val_loss: 0.5288 - val_accuracy: 0.8920\n",
            "Epoch 25/100\n",
            "225/225 [==============================] - 1s 3ms/step - loss: 0.0061 - accuracy: 0.9987 - val_loss: 0.5117 - val_accuracy: 0.8947\n",
            "Epoch 26/100\n",
            "225/225 [==============================] - 1s 3ms/step - loss: 0.0037 - accuracy: 0.9987 - val_loss: 0.5682 - val_accuracy: 0.8933\n",
            "Epoch 27/100\n",
            "225/225 [==============================] - 1s 2ms/step - loss: 0.0045 - accuracy: 0.9991 - val_loss: 0.5481 - val_accuracy: 0.8933\n",
            "Epoch 28/100\n",
            "225/225 [==============================] - 1s 2ms/step - loss: 0.0034 - accuracy: 0.9987 - val_loss: 0.6222 - val_accuracy: 0.8787\n",
            "Epoch 29/100\n",
            "225/225 [==============================] - 1s 2ms/step - loss: 0.0051 - accuracy: 0.9987 - val_loss: 0.5606 - val_accuracy: 0.8947\n",
            "Epoch 30/100\n",
            "225/225 [==============================] - 1s 2ms/step - loss: 0.0034 - accuracy: 0.9987 - val_loss: 0.5956 - val_accuracy: 0.8933\n",
            "Epoch 31/100\n",
            "225/225 [==============================] - 1s 2ms/step - loss: 0.0070 - accuracy: 0.9982 - val_loss: 0.6111 - val_accuracy: 0.8893\n",
            "Epoch 32/100\n",
            "225/225 [==============================] - 1s 3ms/step - loss: 0.0039 - accuracy: 0.9991 - val_loss: 0.5394 - val_accuracy: 0.8920\n",
            "Epoch 33/100\n",
            "225/225 [==============================] - 1s 3ms/step - loss: 0.0065 - accuracy: 0.9982 - val_loss: 0.5459 - val_accuracy: 0.8987\n",
            "Epoch 34/100\n",
            "225/225 [==============================] - 1s 2ms/step - loss: 0.0036 - accuracy: 0.9987 - val_loss: 0.6266 - val_accuracy: 0.8867\n",
            "Epoch 35/100\n",
            "225/225 [==============================] - 1s 2ms/step - loss: 0.0039 - accuracy: 0.9991 - val_loss: 0.5610 - val_accuracy: 0.8947\n",
            "Epoch 36/100\n",
            "225/225 [==============================] - 1s 3ms/step - loss: 0.0060 - accuracy: 0.9982 - val_loss: 0.5773 - val_accuracy: 0.8973\n",
            "Epoch 37/100\n",
            "225/225 [==============================] - 1s 2ms/step - loss: 0.0054 - accuracy: 0.9987 - val_loss: 0.5820 - val_accuracy: 0.8973\n",
            "Epoch 38/100\n",
            "225/225 [==============================] - 1s 2ms/step - loss: 0.0052 - accuracy: 0.9987 - val_loss: 0.5944 - val_accuracy: 0.8893\n",
            "Epoch 39/100\n",
            "225/225 [==============================] - 1s 3ms/step - loss: 0.0029 - accuracy: 0.9987 - val_loss: 0.6562 - val_accuracy: 0.8867\n",
            "Epoch 40/100\n",
            "225/225 [==============================] - 1s 2ms/step - loss: 0.0039 - accuracy: 0.9991 - val_loss: 0.5637 - val_accuracy: 0.8933\n",
            "Epoch 41/100\n",
            "225/225 [==============================] - 1s 2ms/step - loss: 0.0054 - accuracy: 0.9982 - val_loss: 0.5765 - val_accuracy: 0.8960\n",
            "Epoch 42/100\n",
            "225/225 [==============================] - 1s 3ms/step - loss: 0.0033 - accuracy: 0.9987 - val_loss: 0.6526 - val_accuracy: 0.8853\n",
            "Epoch 43/100\n",
            "225/225 [==============================] - 1s 2ms/step - loss: 0.0034 - accuracy: 0.9987 - val_loss: 0.5919 - val_accuracy: 0.8973\n",
            "Epoch 44/100\n",
            "225/225 [==============================] - 1s 2ms/step - loss: 0.0054 - accuracy: 0.9982 - val_loss: 0.6109 - val_accuracy: 0.8893\n",
            "Epoch 45/100\n",
            "225/225 [==============================] - 1s 2ms/step - loss: 0.0032 - accuracy: 0.9991 - val_loss: 0.7272 - val_accuracy: 0.8827\n",
            "Epoch 46/100\n",
            "225/225 [==============================] - 1s 2ms/step - loss: 0.0031 - accuracy: 0.9991 - val_loss: 0.6187 - val_accuracy: 0.8920\n",
            "Epoch 47/100\n",
            "225/225 [==============================] - 1s 3ms/step - loss: 0.0059 - accuracy: 0.9987 - val_loss: 0.6509 - val_accuracy: 0.8853\n",
            "Epoch 48/100\n",
            "225/225 [==============================] - 1s 2ms/step - loss: 0.0068 - accuracy: 0.9987 - val_loss: 0.6337 - val_accuracy: 0.8853\n",
            "Epoch 49/100\n",
            "225/225 [==============================] - 1s 3ms/step - loss: 0.0032 - accuracy: 0.9982 - val_loss: 0.6656 - val_accuracy: 0.8840\n",
            "Epoch 50/100\n",
            "225/225 [==============================] - 1s 3ms/step - loss: 0.0031 - accuracy: 0.9987 - val_loss: 0.6557 - val_accuracy: 0.8867\n",
            "Epoch 51/100\n",
            "225/225 [==============================] - 1s 5ms/step - loss: 0.0025 - accuracy: 0.9991 - val_loss: 0.6570 - val_accuracy: 0.8893\n",
            "Epoch 52/100\n",
            "225/225 [==============================] - 1s 3ms/step - loss: 0.0025 - accuracy: 0.9982 - val_loss: 0.6767 - val_accuracy: 0.8853\n",
            "Epoch 53/100\n",
            "225/225 [==============================] - 1s 3ms/step - loss: 0.0027 - accuracy: 0.9987 - val_loss: 0.6548 - val_accuracy: 0.8893\n",
            "Epoch 54/100\n",
            "225/225 [==============================] - 1s 2ms/step - loss: 0.0036 - accuracy: 0.9982 - val_loss: 0.6416 - val_accuracy: 0.8920\n",
            "Epoch 55/100\n",
            "225/225 [==============================] - 1s 2ms/step - loss: 0.0026 - accuracy: 0.9987 - val_loss: 0.6824 - val_accuracy: 0.8853\n",
            "Epoch 56/100\n",
            "225/225 [==============================] - 1s 2ms/step - loss: 0.0033 - accuracy: 0.9982 - val_loss: 0.6786 - val_accuracy: 0.8840\n",
            "Epoch 57/100\n",
            "225/225 [==============================] - 1s 2ms/step - loss: 0.0029 - accuracy: 0.9987 - val_loss: 0.7541 - val_accuracy: 0.8853\n",
            "Epoch 58/100\n",
            "225/225 [==============================] - 1s 3ms/step - loss: 0.0024 - accuracy: 0.9987 - val_loss: 0.6822 - val_accuracy: 0.8893\n",
            "Epoch 59/100\n",
            "225/225 [==============================] - 1s 3ms/step - loss: 0.0022 - accuracy: 0.9987 - val_loss: 0.7569 - val_accuracy: 0.8853\n",
            "Epoch 60/100\n",
            "225/225 [==============================] - 1s 2ms/step - loss: 0.0023 - accuracy: 0.9991 - val_loss: 0.7033 - val_accuracy: 0.8853\n",
            "Epoch 61/100\n",
            "225/225 [==============================] - 1s 2ms/step - loss: 0.0030 - accuracy: 0.9987 - val_loss: 0.7465 - val_accuracy: 0.8840\n",
            "Epoch 62/100\n",
            "225/225 [==============================] - 1s 2ms/step - loss: 0.0026 - accuracy: 0.9987 - val_loss: 0.7172 - val_accuracy: 0.8827\n",
            "Epoch 63/100\n",
            "225/225 [==============================] - 1s 3ms/step - loss: 0.0030 - accuracy: 0.9982 - val_loss: 0.7578 - val_accuracy: 0.8840\n",
            "Epoch 64/100\n",
            "225/225 [==============================] - 1s 3ms/step - loss: 0.0023 - accuracy: 0.9991 - val_loss: 0.7270 - val_accuracy: 0.8827\n",
            "Epoch 65/100\n",
            "225/225 [==============================] - 1s 2ms/step - loss: 0.0022 - accuracy: 0.9991 - val_loss: 0.7267 - val_accuracy: 0.8840\n",
            "Epoch 66/100\n",
            "225/225 [==============================] - 1s 2ms/step - loss: 0.0029 - accuracy: 0.9987 - val_loss: 0.7053 - val_accuracy: 0.8867\n",
            "Epoch 67/100\n",
            "225/225 [==============================] - 1s 2ms/step - loss: 0.0022 - accuracy: 0.9991 - val_loss: 0.7735 - val_accuracy: 0.8840\n",
            "Epoch 68/100\n",
            "225/225 [==============================] - 1s 3ms/step - loss: 0.0026 - accuracy: 0.9987 - val_loss: 0.7817 - val_accuracy: 0.8827\n",
            "Epoch 69/100\n",
            "225/225 [==============================] - 1s 3ms/step - loss: 0.0021 - accuracy: 0.9991 - val_loss: 0.7704 - val_accuracy: 0.8827\n",
            "Epoch 70/100\n",
            "225/225 [==============================] - 1s 2ms/step - loss: 0.0022 - accuracy: 0.9991 - val_loss: 0.7642 - val_accuracy: 0.8853\n",
            "Epoch 71/100\n",
            "225/225 [==============================] - 1s 2ms/step - loss: 0.0027 - accuracy: 0.9987 - val_loss: 0.8516 - val_accuracy: 0.8760\n",
            "Epoch 72/100\n",
            "225/225 [==============================] - 1s 3ms/step - loss: 0.0020 - accuracy: 0.9991 - val_loss: 0.7436 - val_accuracy: 0.8853\n",
            "Epoch 73/100\n",
            "225/225 [==============================] - 1s 3ms/step - loss: 0.0026 - accuracy: 0.9982 - val_loss: 0.7668 - val_accuracy: 0.8840\n",
            "Epoch 74/100\n",
            "225/225 [==============================] - 1s 3ms/step - loss: 0.0025 - accuracy: 0.9987 - val_loss: 0.7952 - val_accuracy: 0.8827\n",
            "Epoch 75/100\n",
            "225/225 [==============================] - 1s 3ms/step - loss: 0.0023 - accuracy: 0.9982 - val_loss: 0.7969 - val_accuracy: 0.8827\n",
            "Epoch 76/100\n",
            "225/225 [==============================] - 1s 3ms/step - loss: 0.0021 - accuracy: 0.9987 - val_loss: 0.8385 - val_accuracy: 0.8827\n",
            "Epoch 77/100\n",
            "225/225 [==============================] - 1s 3ms/step - loss: 0.0020 - accuracy: 0.9987 - val_loss: 0.8146 - val_accuracy: 0.8813\n",
            "Epoch 78/100\n",
            "225/225 [==============================] - 1s 3ms/step - loss: 0.0020 - accuracy: 0.9991 - val_loss: 0.7846 - val_accuracy: 0.8827\n",
            "Epoch 79/100\n",
            "225/225 [==============================] - 1s 3ms/step - loss: 0.0021 - accuracy: 0.9991 - val_loss: 0.7765 - val_accuracy: 0.8867\n",
            "Epoch 80/100\n",
            "225/225 [==============================] - 1s 3ms/step - loss: 0.0018 - accuracy: 0.9991 - val_loss: 0.8061 - val_accuracy: 0.8853\n",
            "Epoch 81/100\n",
            "225/225 [==============================] - 1s 3ms/step - loss: 0.0021 - accuracy: 0.9991 - val_loss: 0.8331 - val_accuracy: 0.8800\n",
            "Epoch 82/100\n",
            "225/225 [==============================] - 1s 2ms/step - loss: 0.0023 - accuracy: 0.9982 - val_loss: 0.8287 - val_accuracy: 0.8800\n",
            "Epoch 83/100\n",
            "225/225 [==============================] - 1s 3ms/step - loss: 0.0019 - accuracy: 0.9987 - val_loss: 0.8643 - val_accuracy: 0.8827\n",
            "Epoch 84/100\n",
            "225/225 [==============================] - 1s 2ms/step - loss: 0.0018 - accuracy: 0.9987 - val_loss: 0.8329 - val_accuracy: 0.8800\n",
            "Epoch 85/100\n",
            "225/225 [==============================] - 1s 2ms/step - loss: 0.0021 - accuracy: 0.9987 - val_loss: 0.8553 - val_accuracy: 0.8787\n",
            "Epoch 86/100\n",
            "225/225 [==============================] - 1s 2ms/step - loss: 0.0020 - accuracy: 0.9987 - val_loss: 0.8302 - val_accuracy: 0.8800\n",
            "Epoch 87/100\n",
            "225/225 [==============================] - 1s 3ms/step - loss: 0.0020 - accuracy: 0.9987 - val_loss: 0.8984 - val_accuracy: 0.8733\n",
            "Epoch 88/100\n",
            "225/225 [==============================] - 1s 3ms/step - loss: 0.0019 - accuracy: 0.9991 - val_loss: 0.7974 - val_accuracy: 0.8867\n",
            "Epoch 89/100\n",
            "225/225 [==============================] - 1s 2ms/step - loss: 0.0018 - accuracy: 0.9991 - val_loss: 0.8724 - val_accuracy: 0.8800\n",
            "Epoch 90/100\n",
            "225/225 [==============================] - 1s 2ms/step - loss: 0.0019 - accuracy: 0.9987 - val_loss: 0.8453 - val_accuracy: 0.8800\n",
            "Epoch 91/100\n",
            "225/225 [==============================] - 1s 3ms/step - loss: 0.0020 - accuracy: 0.9982 - val_loss: 0.8760 - val_accuracy: 0.8787\n",
            "Epoch 92/100\n",
            "225/225 [==============================] - 1s 2ms/step - loss: 0.0018 - accuracy: 0.9987 - val_loss: 0.9452 - val_accuracy: 0.8813\n",
            "Epoch 93/100\n",
            "225/225 [==============================] - 1s 2ms/step - loss: 0.0017 - accuracy: 0.9987 - val_loss: 0.9024 - val_accuracy: 0.8840\n",
            "Epoch 94/100\n",
            "225/225 [==============================] - 1s 3ms/step - loss: 0.0026 - accuracy: 0.9987 - val_loss: 0.9400 - val_accuracy: 0.8787\n",
            "Epoch 95/100\n",
            "225/225 [==============================] - 1s 2ms/step - loss: 0.0019 - accuracy: 0.9991 - val_loss: 0.8794 - val_accuracy: 0.8813\n",
            "Epoch 96/100\n",
            "225/225 [==============================] - 1s 3ms/step - loss: 0.0021 - accuracy: 0.9987 - val_loss: 0.9077 - val_accuracy: 0.8800\n",
            "Epoch 97/100\n",
            "225/225 [==============================] - 1s 3ms/step - loss: 0.0021 - accuracy: 0.9991 - val_loss: 0.8922 - val_accuracy: 0.8800\n",
            "Epoch 98/100\n",
            "225/225 [==============================] - 1s 3ms/step - loss: 0.0017 - accuracy: 0.9987 - val_loss: 0.8852 - val_accuracy: 0.8800\n",
            "Epoch 99/100\n",
            "225/225 [==============================] - 1s 2ms/step - loss: 0.0016 - accuracy: 0.9987 - val_loss: 0.8638 - val_accuracy: 0.8840\n",
            "Epoch 100/100\n",
            "225/225 [==============================] - 1s 3ms/step - loss: 0.0015 - accuracy: 0.9987 - val_loss: 0.9330 - val_accuracy: 0.8787\n"
          ]
        }
      ]
    },
    {
      "cell_type": "markdown",
      "source": [
        "##P4. viendo grafica de entrenamiento"
      ],
      "metadata": {
        "id": "8p90V_q-Lv3K"
      }
    },
    {
      "cell_type": "code",
      "source": [
        "import matplotlib.pyplot as plt\n",
        "plt.style.use('ggplot') # \n",
        "\n",
        "def plot_history(history):\n",
        "    acc = history.history['accuracy']\n",
        "    val_acc = history.history['val_accuracy']\n",
        "    loss = history.history['loss']\n",
        "    val_loss = history.history['val_loss']\n",
        "    x = range(1, len(acc) + 1)\n",
        "    plt.figure(figsize=(12, 5))\n",
        "    plt.subplot(1, 2, 1)\n",
        "    plt.plot(x, acc, 'b', label='Entrenamiento prec')\n",
        "    plt.plot(x, val_acc, 'r', label='Validacion prec')\n",
        "    plt.title('Precision Entrenamiento y validacion')\n",
        "    plt.legend()\n",
        "    plt.subplot(1, 2, 2)\n",
        "    plt.plot(x, loss, 'b', label='Perdida Entrenamiento')\n",
        "    plt.plot(x, val_loss, 'r', label='Perdida Validacion')\n",
        "    plt.title('Perdida Entrenamiento y validacion')\n",
        "    plt.legend()\n",
        "    plt.show()\n",
        "\n",
        "plot_history(history)"
      ],
      "metadata": {
        "colab": {
          "base_uri": "https://localhost:8080/",
          "height": 337
        },
        "id": "oqAJq84OLzdQ",
        "outputId": "d79be003-b586-463f-829e-62330ed9c02f"
      },
      "execution_count": 43,
      "outputs": [
        {
          "output_type": "display_data",
          "data": {
            "text/plain": [
              "<Figure size 864x360 with 2 Axes>"
            ],
            "image/png": "[encoded data removed]"
          },
          "metadata": {}
        }
      ]
    },
    {
      "cell_type": "markdown",
      "source": [
        "##P5.evaluar el modelo (presición)"
      ],
      "metadata": {
        "id": "XXwbz6UjMWti"
      }
    },
    {
      "cell_type": "code",
      "source": [
        "loss, accuracy = model.evaluate(X_train, y_train, verbose=False)\n",
        "print(\"Precisión Entrenamiento: {:.4f}\".format(accuracy))\n",
        "loss, accuracy = model.evaluate(X_test, y_test, verbose=False)\n",
        "print(\"Precisión Prueba:  {:.4f}\".format(accuracy))"
      ],
      "metadata": {
        "colab": {
          "base_uri": "https://localhost:8080/"
        },
        "id": "3WHd465MMaGc",
        "outputId": "37545e4c-f649-4b0b-c98a-ad330d950224"
      },
      "execution_count": 44,
      "outputs": [
        {
          "output_type": "stream",
          "name": "stdout",
          "text": [
            "Precisión Entrenamiento: 0.9991\n",
            "Precisión Prueba:  0.8787\n"
          ]
        }
      ]
    },
    {
      "cell_type": "markdown",
      "source": [
        "##P6. haciendo predicciones"
      ],
      "metadata": {
        "id": "7DJJvRY5OyPg"
      }
    },
    {
      "cell_type": "code",
      "source": [
        "oracion = ['estoy feliz con mi celular']\n",
        "X_prueba = vectorizerNew.transform(oracion)  #convertimos la oración al array del bagword\n",
        "\n",
        "#print('vector:',X_prueba[0].toarray())\n",
        "predict=model.predict(X_prueba)\n",
        "print(oracion,', El sentimiento es :',predict)"
      ],
      "metadata": {
        "colab": {
          "base_uri": "https://localhost:8080/"
        },
        "id": "lqknCTruO104",
        "outputId": "5ef105f5-446a-49ad-e60f-7f73da398a87"
      },
      "execution_count": 45,
      "outputs": [
        {
          "output_type": "stream",
          "name": "stdout",
          "text": [
            "['estoy feliz con mi celular'] , El sentimiento es : [[0.9999998]]\n"
          ]
        }
      ]
    }
  ]
}