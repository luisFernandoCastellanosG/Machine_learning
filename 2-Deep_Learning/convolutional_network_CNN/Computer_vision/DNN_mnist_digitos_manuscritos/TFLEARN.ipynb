{
 "cells": [
  {
   "cell_type": "code",
   "execution_count": 1,
   "metadata": {},
   "outputs": [
    {
     "name": "stdout",
     "output_type": "stream",
     "text": [
      "hdf5 is not supported on this machine (please install/reinstall h5py for optimal experience)\n"
     ]
    }
   ],
   "source": [
    "import numpy as np\n",
    "import tensorflow as tf\n",
    "import tflearn\n",
    "import tflearn.datasets.mnist as mnist"
   ]
  },
  {
   "cell_type": "code",
   "execution_count": 2,
   "metadata": {},
   "outputs": [
    {
     "name": "stdout",
     "output_type": "stream",
     "text": [
      "Extracting mnist/train-images-idx3-ubyte.gz\n",
      "Extracting mnist/train-labels-idx1-ubyte.gz\n",
      "Extracting mnist/t10k-images-idx3-ubyte.gz\n",
      "Extracting mnist/t10k-labels-idx1-ubyte.gz\n"
     ]
    }
   ],
   "source": [
    "trainX, trainY, testX, testY = mnist.load_data(one_hot=True)"
   ]
  },
  {
   "cell_type": "code",
   "execution_count": 3,
   "metadata": {
    "collapsed": true
   },
   "outputs": [],
   "source": [
    "entradas=784\n",
    "capa1=128\n",
    "capa2=128\n",
    "clases=10"
   ]
  },
  {
   "cell_type": "code",
   "execution_count": 4,
   "metadata": {
    "collapsed": true
   },
   "outputs": [],
   "source": [
    "def crear_modelo():\n",
    "    tf.reset_default_graph()\n",
    "    red = tflearn.input_data([None, entradas])\n",
    "    red = tflearn.fully_connected(red, capa1, activation='ReLU')\n",
    "    red = tflearn.fully_connected(red, capa2, activation='ReLU')\n",
    "    red = tflearn.fully_connected(red, clases, activation='softmax')\n",
    "    red = tflearn.regression(red, optimizer='sgd', learning_rate=0.01, loss='categorical_crossentropy')\n",
    "    modelo = tflearn.DNN(red)\n",
    "    return modelo"
   ]
  },
  {
   "cell_type": "code",
   "execution_count": 6,
   "metadata": {},
   "outputs": [],
   "source": [
    "modelo = crear_modelo()"
   ]
  },
  {
   "cell_type": "code",
   "execution_count": 7,
   "metadata": {},
   "outputs": [
    {
     "name": "stdout",
     "output_type": "stream",
     "text": [
      "Training Step: 9899  | total loss: \u001b[1m\u001b[32m0.28996\u001b[0m\u001b[0m | time: 1.299s\n",
      "| SGD | epoch: 100 | loss: 0.28996 - acc: 0.9180 -- iter: 49000/49500\n",
      "Training Step: 9900  | total loss: \u001b[1m\u001b[32m0.28931\u001b[0m\u001b[0m | time: 2.314s\n",
      "| SGD | epoch: 100 | loss: 0.28931 - acc: 0.9172 | val_loss: 0.29407 - val_acc: 0.9155 -- iter: 49500/49500\n",
      "--\n"
     ]
    }
   ],
   "source": [
    "modelo.fit(trainX, trainY, validation_set=0.1, show_metric=True, batch_size=500, n_epoch=100)"
   ]
  },
  {
   "cell_type": "code",
   "execution_count": 8,
   "metadata": {},
   "outputs": [
    {
     "name": "stdout",
     "output_type": "stream",
     "text": [
      "La certeza es de:  0.9192\n"
     ]
    }
   ],
   "source": [
    "predicciones = np.array(modelo.predict(testX)).argmax(axis=1)\n",
    "correctas = testY.argmax(axis=1)\n",
    "certeza = np.mean(predicciones == correctas, axis=0)\n",
    "print(\"La certeza es de: \", certeza)"
   ]
  },
  {
   "cell_type": "code",
   "execution_count": null,
   "metadata": {
    "collapsed": true
   },
   "outputs": [],
   "source": []
  }
 ],
 "metadata": {
  "anaconda-cloud": {},
  "kernelspec": {
   "display_name": "Python 3",
   "language": "python",
   "name": "python3"
  },
  "language_info": {
   "codemirror_mode": {
    "name": "ipython",
    "version": 3
   },
   "file_extension": ".py",
   "mimetype": "text/x-python",
   "name": "python",
   "nbconvert_exporter": "python",
   "pygments_lexer": "ipython3",
   "version": "3.6.2"
  }
 },
 "nbformat": 4,
 "nbformat_minor": 2
}
