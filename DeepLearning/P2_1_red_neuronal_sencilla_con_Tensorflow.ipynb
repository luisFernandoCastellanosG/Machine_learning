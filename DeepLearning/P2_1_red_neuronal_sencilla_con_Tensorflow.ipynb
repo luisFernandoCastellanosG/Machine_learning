{
  "nbformat": 4,
  "nbformat_minor": 0,
  "metadata": {
    "colab": {
      "name": "P2_1_red_neuronal_sencilla_con_Tensorflow",
      "provenance": [],
      "collapsed_sections": [
        "Xut9tpBV5ZTO",
        "RvXF3w8n5jTj"
      ],
      "toc_visible": true
    },
    "kernelspec": {
      "name": "python3",
      "display_name": "Python 3"
    },
    "language_info": {
      "name": "python"
    }
  },
  "cells": [
    {
      "cell_type": "markdown",
      "metadata": {
        "id": "Y4tE18VT30ns"
      },
      "source": [
        "#Descripcion:\n",
        "\n",
        "---\n",
        "En el mundo hay 4 formas de medir la temperatura:\n",
        "\n",
        "\n",
        "1.  Escala Fahrenheit (EEUU): el agua se congela a 32° y hierve a las 212°\n",
        "2.  Escala Celsius (No EEUU): el agua se congela a 0° y hierve a las 100°\n",
        "3.  Escala De Kelvin (cientifico): el agua se congela a 273.15 k y hierve a las 373.15 k\n",
        "4. Escala De Rankine (obsoleto):  el agua se congela a 0° y hierve a las 671.67°\n",
        "\n",
        "\n",
        "\n",
        "---\n",
        "\n",
        "\n",
        "\n",
        "*   Crearemos un software con programación regular para conversión de grados (celsius a fahrenheit).\n",
        "*   Crearemos una IA que permita convertir grados Celsius a Fharenheit (sin reglas ni logíca)\n",
        "\n"
      ]
    },
    {
      "cell_type": "markdown",
      "metadata": {
        "id": "Xut9tpBV5ZTO"
      },
      "source": [
        "#Conversión con Programación clasica/regular\n",
        "\n",
        "Donde el programador:\n",
        "*  Crea las reglas \n",
        "*  Crea la logica de como se aplican esas reglas.\n",
        "\n",
        "Ejemplo: software para convertir grados Celsius a Fahrenheit:\n",
        "\n",
        "Fah = Celsius * 1.8 + 32\n",
        "\n"
      ]
    },
    {
      "cell_type": "code",
      "metadata": {
        "colab": {
          "base_uri": "https://localhost:8080/"
        },
        "id": "QXIqvGZ-XZOo",
        "outputId": "66c7113b-9569-4cda-a062-5dd04a9cde5c"
      },
      "source": [
        "#creamos una funcion para convertir\n",
        "def f_conv_cels_fah (p_celsius):\n",
        "  fah= p_celsius*1.8 + 32\n",
        "  return fah\n",
        "\n",
        "print('50° Celsius= ',\n",
        "      f_conv_cels_fah(50),\n",
        "      '° Fahrenheit ')"
      ],
      "execution_count": 3,
      "outputs": [
        {
          "output_type": "stream",
          "name": "stdout",
          "text": [
            "50° Celsius=  122.0 ° Fahrenheit \n"
          ]
        }
      ]
    },
    {
      "cell_type": "markdown",
      "metadata": {
        "id": "6JqC6_qAZLNO"
      },
      "source": [
        "*  pero y si no conocemos las reglas?\n",
        "*  y si no es la logica es muy compleja o peor es muy variable?\n"
      ]
    },
    {
      "cell_type": "markdown",
      "metadata": {
        "id": "RvXF3w8n5jTj"
      },
      "source": [
        "#Conversión con IA \n",
        "\n",
        "*   Una red con una capa de entrada y una de salida\n",
        "*   para que entrene le pasamos los grados celsius y su conversión fahrenheit \n",
        "*   La red neuronal aprendera por si sola las reglas y la logíca con todas sus variaciones (pesos y sesgos).\n"
      ]
    },
    {
      "cell_type": "markdown",
      "metadata": {
        "id": "aUiXjnh3bE1w"
      },
      "source": [
        "##P1. importando librerias."
      ]
    },
    {
      "cell_type": "code",
      "metadata": {
        "id": "Hy_pAhzDZ4gy"
      },
      "source": [
        "import tensorflow as tf\n",
        "import numpy as np"
      ],
      "execution_count": 4,
      "outputs": []
    },
    {
      "cell_type": "markdown",
      "metadata": {
        "id": "uTT6OWezbK5D"
      },
      "source": [
        "##P2. definiendo los parametros de entrada y salida (capas)\n",
        "---\n",
        "tomaremos 10 datos (muuuuuuuuuuy pocos...pero sirve pa la explicación)\n"
      ]
    },
    {
      "cell_type": "code",
      "metadata": {
        "id": "MIrfX72vaL1z"
      },
      "source": [
        "celsius    = np.array([-100, -55, -40, -23 , -10,  0,  8, 15, 22,  38], dtype=float)   #parametros de entrada\n",
        "fahrenheit = np.array([-148, -67, -40, -9.4, 14, 32, 46, 59, 72, 100], dtype=float) #parametros de salida "
      ],
      "execution_count": 44,
      "outputs": []
    },
    {
      "cell_type": "markdown",
      "metadata": {
        "id": "1pX2c4s15EyM"
      },
      "source": [
        "Notas (errores en la data):\n",
        "\n",
        "\n",
        "*   Muuuuuuuuuuuuuuuuuuuuuuy poquitos datos\n",
        "*   ni un solo datos flotante....\n",
        "*   rango muy pequeño de datos\n",
        "\n"
      ]
    },
    {
      "cell_type": "markdown",
      "metadata": {
        "id": "ZsvTtRx6bSpM"
      },
      "source": [
        "##P3. creando la red neuronal\n",
        "\n",
        "---\n",
        "\n",
        "\n",
        "\n",
        "*   Usamos Keras como libreria de alto nivel (facilita mucho la creación de redes neuronales)\n",
        "*   usaremos un modelo secuencial (una red simple), hay más modelos, ejemplo: CNN, LSTM/ RNN, GAN, BERT\n",
        "*   crearemos 3 capas densas, que son aquellas que tiene conexiones con todas las neuronas de la siguiente capa, donde:\n",
        "    *   Units= cantidad de neuronas\n",
        "    *   input_shape= cantidad de nueronas de entrada    "
      ]
    },
    {
      "cell_type": "code",
      "metadata": {
        "id": "RIG6Y5jEafFL"
      },
      "source": [
        "capa = tf.keras.layers.Dense(units=1, input_shape=[1])\n",
        "modelo = tf.keras.Sequential([capa])"
      ],
      "execution_count": 45,
      "outputs": []
    },
    {
      "cell_type": "markdown",
      "metadata": {
        "id": "HZoamnCWlfoR"
      },
      "source": [
        "###P3.1 compilamos la red:\n",
        "\n",
        "\n",
        "*   Usaremos el optimizador ADAM, hay otros más complejos como RELU, SOFTMAX...etc...es quien le dice a la red como ajustar los pesos y los sesgos (le dice como aprender y no desaprender)\n",
        "*  definiremos una tasa de aprendizaje de 0.1 (entre más pequeño el número el ajuste es menor y más tiempo dura en aprender).\n",
        "*   tomaremos la una función de calculo de perdida del aprendizaje llamada \"MEAN_SQUARED_ERROR- error cuadradico medio\", que es \"una poca cantidad de error grandes es PEOR que una gran cantidad de errores pequeños\" \n",
        "\n"
      ]
    },
    {
      "cell_type": "code",
      "metadata": {
        "id": "1_WHzWidbN_8"
      },
      "source": [
        "modelo.compile(\n",
        "    optimizer=tf.keras.optimizers.Adam(0.1),\n",
        "    loss='mean_squared_error'\n",
        ")"
      ],
      "execution_count": 46,
      "outputs": []
    },
    {
      "cell_type": "markdown",
      "metadata": {
        "id": "Csmk2cjvpTNU"
      },
      "source": [
        "##P4.entrenando"
      ]
    },
    {
      "cell_type": "code",
      "metadata": {
        "id": "4D-NuUTnbabR"
      },
      "source": [
        "print(\"Comenzando entrenamiento...\")\n",
        "historial = modelo.fit(celsius, fahrenheit, epochs=1000, verbose=True)\n",
        "print(\"Modelo entrenado!\")"
      ],
      "execution_count": null,
      "outputs": []
    },
    {
      "cell_type": "markdown",
      "metadata": {
        "id": "9beXoLRapWWr"
      },
      "source": [
        "###P4.1 resultados del entrenamiento"
      ]
    },
    {
      "cell_type": "code",
      "metadata": {
        "colab": {
          "base_uri": "https://localhost:8080/",
          "height": 296
        },
        "id": "px43cF3Nb3mG",
        "outputId": "452757d1-efea-43b2-bb34-2efc00ca0c4f"
      },
      "source": [
        "import matplotlib.pyplot as plt\n",
        "plt.xlabel(\"# Epoca\")\n",
        "plt.ylabel(\"Magnitud de pérdida\")\n",
        "plt.plot(historial.history[\"loss\"])"
      ],
      "execution_count": 48,
      "outputs": [
        {
          "output_type": "execute_result",
          "data": {
            "text/plain": [
              "[<matplotlib.lines.Line2D at 0x7fd76cc240d0>]"
            ]
          },
          "metadata": {},
          "execution_count": 48
        },
        {
          "output_type": "display_data",
          "data": {
            "image/png": "[encoded data removed]",
            "text/plain": [
              "<Figure size 432x288 with 1 Axes>"
            ]
          },
          "metadata": {
            "needs_background": "light"
          }
        }
      ]
    },
    {
      "cell_type": "markdown",
      "metadata": {
        "id": "fDGrCHAOppi0"
      },
      "source": [
        "##P5. hagamos una predicción"
      ]
    },
    {
      "cell_type": "code",
      "metadata": {
        "colab": {
          "base_uri": "https://localhost:8080/"
        },
        "id": "esVvhzjMcV9f",
        "outputId": "72fb9a2f-1982-4d14-f910-8be8a9e23564"
      },
      "source": [
        "v_celsius= 40\n",
        "print(\"Hagamos una predicción!\")\n",
        "resul_IA   = modelo.predict([v_celsius])\n",
        "result_real= f_conv_cels_fah(v_celsius)\n",
        "dif        = 100-(resul_IA*100/result_real)\n",
        "print('Celsius= ',v_celsius, '° = Fahrenheit:',\n",
        "      '\\nIA: ',resul_IA,\n",
        "      '\\nRegular: ',result_real,\n",
        "      '\\nDif %:',dif)"
      ],
      "execution_count": 49,
      "outputs": [
        {
          "output_type": "stream",
          "name": "stdout",
          "text": [
            "Hagamos una predicción!\n",
            "Celsius=  40 ° = Fahrenheit: \n",
            "IA:  [[103.88673]] \n",
            "Regular:  104.0 \n",
            "Dif %: [[0.10891724]]\n"
          ]
        }
      ]
    },
    {
      "cell_type": "markdown",
      "metadata": {
        "id": "tg8E_nqhp84e"
      },
      "source": [
        "##P6. conociendo que sesgos y pesos resultantes\n",
        "\n",
        "\n",
        "---\n",
        "Una vez termina de entrenar las neuronas quedan con pesos y sesgos \n",
        "\n",
        "\n"
      ]
    },
    {
      "cell_type": "code",
      "metadata": {
        "colab": {
          "base_uri": "https://localhost:8080/"
        },
        "id": "FVDejrBgcokc",
        "outputId": "afd46df1-33d1-46c7-ce56-92baca5e39ae"
      },
      "source": [
        "print(\"Variables internas del modelo\")\n",
        "print('peso: ',capa.get_weights()[0])\n",
        "print('sesgo: ',capa.get_weights()[1])"
      ],
      "execution_count": 50,
      "outputs": [
        {
          "output_type": "stream",
          "name": "stdout",
          "text": [
            "Variables internas del modelo\n",
            "peso:  [[1.7988808]]\n",
            "sesgo:  [31.931498]\n"
          ]
        }
      ]
    },
    {
      "cell_type": "markdown",
      "metadata": {
        "id": "cEkKfDZTs39E"
      },
      "source": [
        "la red sin decirle las reglas ni la logica pudo ella sola generar un algorimo para calcular un valor aproximado del 99% de acertabilidad.\n",
        "\n",
        "fahr= cels *1.8 + 32\n",
        "\n",
        "y= mx + b  (regresión lineal)"
      ]
    },
    {
      "cell_type": "markdown",
      "metadata": {
        "id": "Agox1c8FtbAk"
      },
      "source": [
        "##P7. y si le pongo más neuronas y más capas?"
      ]
    },
    {
      "cell_type": "markdown",
      "metadata": {
        "id": "wN8JIsBkv27t"
      },
      "source": [
        "###P7.1 creamos un modelo con dos capas ocultas"
      ]
    },
    {
      "cell_type": "code",
      "metadata": {
        "id": "XY_FEiAchGCY"
      },
      "source": [
        "oculta1 = tf.keras.layers.Dense(units=3, input_shape=[1])  # capa DENSA con 3 neuronas y el entra información de 1 capa\n",
        "oculta2 = tf.keras.layers.Dense(units=3)                   # capa DENSA con 3 neuronas\n",
        "salida  = tf.keras.layers.Dense(units=1)                    # capa de salida con 1 neurona\n",
        "#creamos el modelo con las 4 capas (recuerden 1 que la de la parametros no hace falta definirla)\n",
        "modelo_v2 = tf.keras.Sequential([oculta1, oculta2, salida])"
      ],
      "execution_count": 37,
      "outputs": []
    },
    {
      "cell_type": "code",
      "metadata": {
        "id": "gHZi7q5_wgJ_"
      },
      "source": [
        "# compilamos\n",
        "modelo_v2.compile(\n",
        "    optimizer=tf.keras.optimizers.Adam(0.1),\n",
        "    loss='mean_squared_error'\n",
        ")"
      ],
      "execution_count": 38,
      "outputs": []
    },
    {
      "cell_type": "code",
      "metadata": {
        "colab": {
          "base_uri": "https://localhost:8080/"
        },
        "id": "erOnWc5uwnK1",
        "outputId": "607cb513-0ded-4477-da2a-37cac5fdc7af"
      },
      "source": [
        "#entrenamos\n",
        "print(\"Comenzando entrenamiento...\")\n",
        "historial_V2 = modelo_v2.fit(celsius, fahrenheit, epochs=1000, verbose=False)\n",
        "print(\"modelo_v2 entrenado!\")"
      ],
      "execution_count": 39,
      "outputs": [
        {
          "output_type": "stream",
          "name": "stdout",
          "text": [
            "Comenzando entrenamiento...\n",
            "modelo_v2 entrenado!\n"
          ]
        }
      ]
    },
    {
      "cell_type": "markdown",
      "metadata": {
        "id": "zO2WrgjVw4OX"
      },
      "source": [
        "###P7.2 resultados del entrenamiento"
      ]
    },
    {
      "cell_type": "code",
      "metadata": {
        "colab": {
          "base_uri": "https://localhost:8080/",
          "height": 296
        },
        "id": "mklSXyxxw-KN",
        "outputId": "bb6938b3-2732-4474-a92f-76636a6b8cc6"
      },
      "source": [
        "import matplotlib.pyplot as plt\n",
        "plt.xlabel(\"# Epoca\")\n",
        "plt.ylabel(\"Magnitud de pérdida\")\n",
        "plt.plot(historial_V2.history[\"loss\"])"
      ],
      "execution_count": 40,
      "outputs": [
        {
          "output_type": "execute_result",
          "data": {
            "text/plain": [
              "[<matplotlib.lines.Line2D at 0x7fd76cefcf10>]"
            ]
          },
          "metadata": {},
          "execution_count": 40
        },
        {
          "output_type": "display_data",
          "data": {
            "image/png": "[encoded data removed]",
            "text/plain": [
              "<Figure size 432x288 with 1 Axes>"
            ]
          },
          "metadata": {
            "needs_background": "light"
          }
        }
      ]
    },
    {
      "cell_type": "markdown",
      "metadata": {
        "id": "YJPOBDBAzkJT"
      },
      "source": [
        "###P7.3. conociendo que sesgos y pesos resultantes\n",
        "\n",
        "\n",
        "---\n",
        "Una vez termina de entrenar las neuronas quedan con pesos y sesgos \n"
      ]
    },
    {
      "cell_type": "code",
      "metadata": {
        "colab": {
          "base_uri": "https://localhost:8080/"
        },
        "id": "x3THuXjXzrPD",
        "outputId": "6f54d15b-d593-4ecd-90e5-44157f44b3bc"
      },
      "source": [
        "print(\"Variables internas del modelo\")\n",
        "print(oculta1.get_weights())\n",
        "print(oculta2.get_weights())\n",
        "print(salida.get_weights())"
      ],
      "execution_count": 33,
      "outputs": [
        {
          "output_type": "stream",
          "name": "stdout",
          "text": [
            "Variables internas del modelo\n",
            "[array([[ 0.11575674, -1.0852133 , -0.542346  ]], dtype=float32), array([-0.31776822, -4.3969197 ,  2.5800898 ], dtype=float32)]\n",
            "[array([[-0.38953206,  0.11110815,  0.3975624 ],\n",
            "       [-1.4923313 ,  0.80608857,  1.4845102 ],\n",
            "       [ 0.16235155, -1.1327136 , -1.2745779 ]], dtype=float32), array([ 2.6450636, -1.6722668, -4.1502504], dtype=float32)]\n",
            "[array([[ 0.30766773],\n",
            "       [-0.7869824 ],\n",
            "       [-1.3113852 ]], dtype=float32), array([4.039318], dtype=float32)]\n"
          ]
        }
      ]
    },
    {
      "cell_type": "markdown",
      "metadata": {
        "id": "1QLnqnPR0BBF"
      },
      "source": [
        "###P7.4. hagamos una predicción"
      ]
    },
    {
      "cell_type": "code",
      "metadata": {
        "colab": {
          "base_uri": "https://localhost:8080/"
        },
        "id": "vTuDzCe-0Bl6",
        "outputId": "ad11c2a3-4262-4501-f2b5-37912b6ce761"
      },
      "source": [
        "v_celsius= 50\n",
        "print(\"Hagamos una predicción!\")\n",
        "resul_IA   = modelo_v2.predict([v_celsius])\n",
        "result_real= f_conv_cels_fah(v_celsius)\n",
        "dif        = 100-(resul_IA*100/result_real)\n",
        "print('Celsius= ',v_celsius, '° = Fahrenheit:',\n",
        "      '\\nIA: ',resul_IA,\n",
        "      '\\nRegular: ',result_real,\n",
        "      '\\nDif %:',dif)"
      ],
      "execution_count": 41,
      "outputs": [
        {
          "output_type": "stream",
          "name": "stdout",
          "text": [
            "Hagamos una predicción!\n",
            "Celsius=  50 ° = Fahrenheit: \n",
            "IA:  [[121.849976]] \n",
            "Regular:  122.0 \n",
            "Dif %: [[0.12297058]]\n"
          ]
        }
      ]
    },
    {
      "cell_type": "markdown",
      "metadata": {
        "id": "em4xMeB8zHP1"
      },
      "source": [
        "#CONCLUSIONES:\n",
        "\n",
        "\n",
        "---\n",
        "\n",
        "El uso de redes neuronales es aplicable en casí cualquier problema que requiera clasificación o predicción  \n",
        "\n",
        "Al usar capas ocultas:\n",
        "2.  El aprendizaje se realiza en menor cantida de EPOCS/CICLOS y configurando algunos Hyper-parametros el modelo se vuelve más eficiente\n",
        "3.   La signación de pesos y sesgos se vuelve más complejo de analizar\n",
        "4.   La cantidad de capas y neuronas NO se hace de forma aleatoria, se hace usando una formula de compensación (la veremos despues).\n",
        "\n",
        "\n"
      ]
    },
    {
      "cell_type": "markdown",
      "metadata": {
        "id": "o2aBlv8D2e-r"
      },
      "source": [
        "# Que sigue ahora:\n",
        "\n",
        "---\n",
        "\n",
        "\n",
        "1.   Crear Redes neuronales para PLN (procesamiento de lenguaje natural)\n",
        "2.   Crear redes neuronales para visión artificial\n",
        "3.   Crear redes neuronales Transformer (BERT) \n",
        "4.   Crear redes nueronales geneticas  (--INVESTIGACIÓN--)\n",
        "5.   Crear redes neuronales de colmena (--INVESTIGACIÓN--)\n",
        "6.   Crear redes neuronales cognitivas (--INVESTIGACIÓN--)\n",
        "\n",
        "\n",
        "\n"
      ]
    }
  ]
}